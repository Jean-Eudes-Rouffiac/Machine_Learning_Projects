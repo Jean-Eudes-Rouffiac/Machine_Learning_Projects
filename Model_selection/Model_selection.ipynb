{
 "cells": [
  {
   "cell_type": "markdown",
   "metadata": {},
   "source": [
    "## Jean-Eudes Rouffiac  \n",
    "\n",
    "&nbsp;\n",
    "\n",
    "&nbsp;"
   ]
  },
  {
   "cell_type": "markdown",
   "metadata": {},
   "source": [
    "# <center> TP 3 : sélection de modèles </center>"
   ]
  },
  {
   "cell_type": "markdown",
   "metadata": {},
   "source": [
    "L'objectif de ce TP est double : \n",
    "* mise en œuvre d’une prodécude de sélection de modèle via le grid search\n",
    "* prise en charge de données catégorielles\n"
   ]
  },
  {
   "cell_type": "markdown",
   "metadata": {},
   "source": [
    "&nbsp;\n",
    "\n",
    "# 1 Classification de données Splice\n",
    "\n",
    "&nbsp;"
   ]
  },
  {
   "cell_type": "markdown",
   "metadata": {},
   "source": [
    "&nbsp;\n",
    "\n",
    "<p style=\"text-align:justify;\"> Les données Splice sont des données de séquences d'ADN auxquelles l'ADN superflux est retiré durant le processus de création de protéines dans les organismes. Le problème que nous voulons résoudre est de reconnaître, pour une séquence d'ADN donnée, les frontières entre les exons et les introns.</p>\n",
    "\n",
    "<p style=\"text-align:justify;\">Chargeons dans un premier temps les données.</p>\n",
    "\n",
    "&nbsp;"
   ]
  },
  {
   "cell_type": "code",
   "execution_count": 27,
   "metadata": {
    "collapsed": true
   },
   "outputs": [],
   "source": [
    "from sklearn.datasets import load_svmlight_file\n",
    "import numpy as np\n",
    "\n",
    "X, Y = load_svmlight_file(\"./splice\")"
   ]
  },
  {
   "cell_type": "markdown",
   "metadata": {},
   "source": [
    "&nbsp;\n",
    "\n",
    "<p style=\"text-align:justify;\"> On veut maintenant apprendre un modèle SVM non-linéaire avec un noyau RBF (gaussien) de paramètre $\\gamma$ : $k(x, z) = exp(−\\gamma \\lVert x − z \\rVert^2)$ en sélectionnant de façon optimal les hyper paramètres C du SVM et donc $\\gamma$ du noyau. On se servira du module GridSearchCV.</p>\n",
    "\n",
    "<p style=\"text-align:justify;\">Dans un premier temps, on construit une échelle logarithmique les deux vecteurs suivants qui vont être les valeurs possibles que peuvent prendre C et $\\gamma$.</p>\n",
    "\n",
    "&nbsp;\n"
   ]
  },
  {
   "cell_type": "code",
   "execution_count": 10,
   "metadata": {
    "collapsed": true
   },
   "outputs": [],
   "source": [
    "gamma_grid = np.logspace(-3, 0, 30)\n",
    "C_grid = np.logspace(-0.5, 1.5, 30)"
   ]
  },
  {
   "cell_type": "markdown",
   "metadata": {},
   "source": [
    "&nbsp;\n",
    "\n",
    "<p style=\"text-align:justify;\"> On effectue alors une Grid Search sur la grille formée par les vecteurs précédemment définis.</p>\n",
    "\n",
    "&nbsp;\n",
    "\n",
    "\n",
    "\n",
    "\n"
   ]
  },
  {
   "cell_type": "code",
   "execution_count": 11,
   "metadata": {
    "collapsed": true
   },
   "outputs": [],
   "source": [
    "from sklearn.model_selection import GridSearchCV\n",
    "from sklearn.svm import SVC\n",
    "# the grid\n",
    "parameters = [{\"gamma\": gamma_grid, \"C\": C_grid}]\n",
    "# the classifier\n",
    "clf_rbf = SVC(kernel=\"rbf\", tol=0.01)\n",
    "# Perf a K-fold validation using the accuracy as the performance measure\n",
    "K = 10 # feel free to adapt the value of $K$\n",
    "# we will dot it on a grid search using n_jobs processors\n",
    "clf_rbf = GridSearchCV(clf_rbf, param_grid=parameters, cv=K, scoring=\"accuracy\", verbose=1, n_jobs = 2)"
   ]
  },
  {
   "cell_type": "markdown",
   "metadata": {},
   "source": [
    "&nbsp;\n",
    "\n",
    "Lançons la sélection du modèle optimal et son apprentissage\n",
    "\n",
    "&nbsp;"
   ]
  },
  {
   "cell_type": "code",
   "execution_count": 12,
   "metadata": {},
   "outputs": [
    {
     "name": "stdout",
     "output_type": "stream",
     "text": [
      "Fitting 10 folds for each of 900 candidates, totalling 9000 fits\n"
     ]
    },
    {
     "name": "stderr",
     "output_type": "stream",
     "text": [
      "[Parallel(n_jobs=2)]: Done  46 tasks      | elapsed:    4.3s\n",
      "[Parallel(n_jobs=2)]: Done 196 tasks      | elapsed:   18.1s\n",
      "[Parallel(n_jobs=2)]: Done 446 tasks      | elapsed:   41.9s\n",
      "[Parallel(n_jobs=2)]: Done 796 tasks      | elapsed:  1.3min\n",
      "[Parallel(n_jobs=2)]: Done 1246 tasks      | elapsed:  2.0min\n",
      "[Parallel(n_jobs=2)]: Done 1796 tasks      | elapsed:  2.9min\n",
      "[Parallel(n_jobs=2)]: Done 2446 tasks      | elapsed:  3.9min\n",
      "[Parallel(n_jobs=2)]: Done 3196 tasks      | elapsed:  5.1min\n",
      "[Parallel(n_jobs=2)]: Done 4046 tasks      | elapsed:  6.3min\n",
      "[Parallel(n_jobs=2)]: Done 4996 tasks      | elapsed:  7.7min\n",
      "[Parallel(n_jobs=2)]: Done 6046 tasks      | elapsed:  9.4min\n",
      "[Parallel(n_jobs=2)]: Done 7196 tasks      | elapsed: 11.1min\n",
      "[Parallel(n_jobs=2)]: Done 8446 tasks      | elapsed: 13.1min\n",
      "[Parallel(n_jobs=2)]: Done 9000 out of 9000 | elapsed: 14.1min finished\n"
     ]
    },
    {
     "data": {
      "text/plain": [
       "GridSearchCV(cv=10, error_score='raise',\n",
       "       estimator=SVC(C=1.0, cache_size=200, class_weight=None, coef0=0.0,\n",
       "  decision_function_shape='ovr', degree=3, gamma='auto', kernel='rbf',\n",
       "  max_iter=-1, probability=False, random_state=None, shrinking=True,\n",
       "  tol=0.01, verbose=False),\n",
       "       fit_params=None, iid=True, n_jobs=2,\n",
       "       param_grid=[{'gamma': array([0.001  , 0.00127, 0.00161, 0.00204, 0.00259, 0.00329, 0.00418,\n",
       "       0.0053 , 0.00672, 0.00853, 0.01083, 0.01374, 0.01743, 0.02212,\n",
       "       0.02807, 0.03562, 0.0452 , 0.05736, 0.07279, 0.09237, 0.11721,\n",
       "       0.14874, 0.18874, 0.2395 , 0.30392, 0.38566, 0.48939, 0.62102...  8.8772 , 10.40498, 12.1957 ,\n",
       "       14.29461, 16.75475, 19.63828, 23.01807, 26.97954, 31.62278])}],\n",
       "       pre_dispatch='2*n_jobs', refit=True, return_train_score='warn',\n",
       "       scoring='accuracy', verbose=1)"
      ]
     },
     "execution_count": 12,
     "metadata": {},
     "output_type": "execute_result"
    }
   ],
   "source": [
    "clf_rbf.fit(X, Y)"
   ]
  },
  {
   "cell_type": "markdown",
   "metadata": {},
   "source": [
    "&nbsp;\n",
    "\n",
    "<p style=\"text-align:justify;\">On trace le taux de classification en fonction de la grille d'hyper-paramètres.</p>\n",
    "\n",
    "&nbsp;\n"
   ]
  },
  {
   "cell_type": "code",
   "execution_count": 13,
   "metadata": {},
   "outputs": [
    {
     "name": "stdout",
     "output_type": "stream",
     "text": [
      "\n",
      " Rbf kernel - optimal hyper-parameters = {'C': 2.126112333899656, 'gamma': 0.01373823795883263}\n",
      "\n",
      " Rbf kernel - best cross-val accuracy = 0.886\n"
     ]
    },
    {
     "data": {
      "image/png": "[encoded data removed]",
      "text/plain": [
       "<matplotlib.figure.Figure at 0x103b69f60>"
      ]
     },
     "metadata": {},
     "output_type": "display_data"
    }
   ],
   "source": [
    "# Get the best parameters\n",
    "print(\"\\n Rbf kernel - optimal hyper-parameters = {}\".format(clf_rbf.\n",
    "best_params_))\n",
    "print(\"\\n Rbf kernel - best cross-val accuracy = {}\".format(clf_rbf.\n",
    "best_score_))\n",
    "## Plot the validation performance w.r.t. C and gamma\n",
    "import matplotlib.pyplot as plt\n",
    "plt.imshow(clf_rbf.cv_results_[\"mean_test_score\"].reshape(gamma_grid.\n",
    "shape[0],C_grid.shape[0]), extent=[min(gamma_grid),max(gamma_grid),\n",
    "min(C_grid),max(C_grid)],interpolation=\"bicubic\",aspect=\"auto\")\n",
    "plt.colorbar()\n",
    "plt.show()"
   ]
  },
  {
   "cell_type": "markdown",
   "metadata": {},
   "source": [
    "&nbsp;\n",
    "\n",
    "<p style=\"text-align:justify;\">La figure obtenue est cohérente car la zone jaune correspond au meilleur score obtenu. On observe bien que pour $C=4.42$ et $\\gamma = 0.01$, on est dans la zone jaune.</p>\n",
    "\n",
    "<p style=\"text-align:justify;\">On peut alors télécharger le jeux de données test et effectuer les prédictions dessus grâce à notre modèle.</p>\n",
    "\n",
    "&nbsp;"
   ]
  },
  {
   "cell_type": "code",
   "execution_count": 14,
   "metadata": {
    "collapsed": true
   },
   "outputs": [],
   "source": [
    "# load the test set inputs (they are stored in a sparse matrix)\n",
    "import scipy.sparse\n",
    "Xtest = scipy.sparse.load_npz(\"./splice_t.npz\")"
   ]
  },
  {
   "cell_type": "code",
   "execution_count": 22,
   "metadata": {},
   "outputs": [],
   "source": [
    "import pandas as pd \n",
    "\n",
    "y_test = clf_rbf.predict(Xtest)\n",
    "df = pd.DataFrame(y_test)\n",
    "df.to_csv(\"y_test.csv\", sep=';', header=False)"
   ]
  },
  {
   "cell_type": "markdown",
   "metadata": {},
   "source": [
    "&nbsp;\n",
    "\n",
    "<p style=\"text-align:justify;\">On obtient alors un score de 90.39%.</p>\n",
    "\n",
    "<p style=\"text-align:justify;\">Nous voulons comparer ce résultat avec un SVM linéaire.</p>\n",
    "\n",
    "\n",
    "&nbsp;"
   ]
  },
  {
   "cell_type": "code",
   "execution_count": 41,
   "metadata": {},
   "outputs": [
    {
     "name": "stdout",
     "output_type": "stream",
     "text": [
      "Fitting 10 folds for each of 149 candidates, totalling 1490 fits\n"
     ]
    },
    {
     "name": "stderr",
     "output_type": "stream",
     "text": [
      "[Parallel(n_jobs=2)]: Done  88 tasks      | elapsed:    4.4s\n",
      "[Parallel(n_jobs=2)]: Done 388 tasks      | elapsed:   22.2s\n",
      "[Parallel(n_jobs=2)]: Done 888 tasks      | elapsed:  1.0min\n",
      "[Parallel(n_jobs=2)]: Done 1490 out of 1490 | elapsed:  2.0min finished\n"
     ]
    },
    {
     "data": {
      "text/plain": [
       "GridSearchCV(cv=10, error_score='raise',\n",
       "       estimator=SVC(C=1.0, cache_size=200, class_weight=None, coef0=0.0,\n",
       "  decision_function_shape='ovr', degree=3, gamma='auto', kernel='linear',\n",
       "  max_iter=-1, probability=False, random_state=None, shrinking=True,\n",
       "  tol=0.01, verbose=False),\n",
       "       fit_params=None, iid=True, n_jobs=2,\n",
       "       param_grid=[{'C': [0.01, 0.02, 0.03, 0.04, 0.05, 0.06, 0.07, 0.08, 0.09, 0.1, 0.11, 0.12, 0.13, 0.14, 0.15, 0.16, 0.17, 0.18, 0.19, 0.2, 0.21, 0.22, 0.23, 0.24, 0.25, 0.26, 0.27, 0.28, 0.29, 0.3, 0.31, 0.32, 0.33, 0.34, 0.35, 0.36, 0.37, 0.38, 0.39, 0.4, 0.41, 0.42, 0.43, 0.44, 0.45, 0.46, 0.47, 0.4...33, 1.34, 1.35, 1.36, 1.37, 1.38, 1.39, 1.4, 1.41, 1.42, 1.43, 1.44, 1.45, 1.46, 1.47, 1.48, 1.49]}],\n",
       "       pre_dispatch='2*n_jobs', refit=True, return_train_score='warn',\n",
       "       scoring='accuracy', verbose=1)"
      ]
     },
     "execution_count": 41,
     "metadata": {},
     "output_type": "execute_result"
    }
   ],
   "source": [
    "C_grid = [i/100 for i in range (1, 150)]\n",
    "from sklearn.model_selection import GridSearchCV\n",
    "from sklearn.svm import SVC\n",
    "# the grid\n",
    "parameters = [{\"C\": C_grid}]\n",
    "# the classifier\n",
    "clf_lin = SVC(kernel=\"linear\", tol=0.01)\n",
    "# Perf a K-fold validation using the accuracy as the performance measure\n",
    "K = 10 # feel free to adapt the value of $K$\n",
    "# we will dot it on a grid search using n_jobs processors\n",
    "clf_lin = GridSearchCV(clf_lin, param_grid=parameters, cv=K, scoring=\"accuracy\", verbose=1, n_jobs = 2)\n",
    "clf_lin.fit(X, Y)"
   ]
  },
  {
   "cell_type": "code",
   "execution_count": 42,
   "metadata": {},
   "outputs": [
    {
     "name": "stdout",
     "output_type": "stream",
     "text": [
      "\n",
      " Linear kernel - optimal hyper-parameters = {'C': 0.01}\n",
      "\n",
      " Linear kernel - best cross-val accuracy = 0.819\n"
     ]
    }
   ],
   "source": [
    "# Get the best parameters\n",
    "print(\"\\n Linear kernel - optimal hyper-parameters = {}\".format(clf_lin.best_params_))\n",
    "print(\"\\n Linear kernel - best cross-val accuracy = {}\".format(clf_lin.best_score_))"
   ]
  },
  {
   "cell_type": "code",
   "execution_count": 43,
   "metadata": {
    "collapsed": true
   },
   "outputs": [],
   "source": [
    "y_test_lin = clf_lin.predict(Xtest)\n",
    "df = pd.DataFrame(y_test_lin)\n",
    "df.to_csv(\"y_test_lin.csv\", sep=';', header=False)"
   ]
  },
  {
   "cell_type": "markdown",
   "metadata": {},
   "source": [
    "&nbsp;\n",
    "\n",
    "<p style=\"text-align:justify;\">On obtient alors un score de 84.94%.</p>\n",
    "\n",
    "<p style=\"text-align:justify;\">Comparons ces deux méthodes avec un test de Mc Nemar.</p>\n",
    "\n",
    "\n",
    "&nbsp;"
   ]
  },
  {
   "cell_type": "markdown",
   "metadata": {},
   "source": [
    "&nbsp;\n",
    "\n",
    "# 2. Classification de données marketting\n",
    "\n",
    "&nbsp;"
   ]
  },
  {
   "cell_type": "markdown",
   "metadata": {},
   "source": [
    "&nbsp;\n",
    "\n",
    "<p style=\"text-align:justify;\">Les données à traiter portent sur une campagne de marketing (par téléphone) d’une banque à destination de prospects. L’objectif est de prédire si un prospect va souscrire ou non à l’ouverture d’un compte.</p>\n",
    "\n",
    "<p style=\"text-align:justify;\">Import des librairies utiles.</p>\n",
    "\n",
    "&nbsp;"
   ]
  },
  {
   "cell_type": "code",
   "execution_count": 73,
   "metadata": {
    "collapsed": true
   },
   "outputs": [],
   "source": [
    "import numpy as np\n",
    "import pandas as pd\n",
    "import seaborn as sb\n",
    "import matplotlib.pyplot as plt\n",
    "from sklearn.preprocessing import LabelEncoder\n",
    "from sklearn.model_selection import train_test_split\n",
    "from sklearn.preprocessing import StandardScaler\n",
    "from sklearn.metrics import accuracy_score, confusion_matrix\n",
    "from sklearn import linear_model\n",
    "from sklearn.svm import SVC"
   ]
  },
  {
   "cell_type": "markdown",
   "metadata": {},
   "source": [
    "&nbsp;\n",
    "\n",
    "## 2.1 Chargement des données et analyse sommaire\n",
    "\n",
    "&nbsp;"
   ]
  },
  {
   "cell_type": "code",
   "execution_count": 74,
   "metadata": {},
   "outputs": [
    {
     "name": "stdout",
     "output_type": "stream",
     "text": [
      "<class 'pandas.core.frame.DataFrame'>\n",
      "RangeIndex: 41188 entries, 0 to 41187\n",
      "Data columns (total 21 columns):\n",
      "age               41188 non-null int64\n",
      "job               41188 non-null object\n",
      "marital           41188 non-null object\n",
      "education         41188 non-null object\n",
      "default           41188 non-null object\n",
      "housing           41188 non-null object\n",
      "loan              41188 non-null object\n",
      "contact           41188 non-null object\n",
      "month             41188 non-null object\n",
      "day_of_week       41188 non-null object\n",
      "duration          41188 non-null int64\n",
      "campaign          41188 non-null int64\n",
      "pdays             41188 non-null int64\n",
      "previous          41188 non-null int64\n",
      "poutcome          41188 non-null object\n",
      "emp.var.rate      41188 non-null float64\n",
      "cons.price.idx    41188 non-null float64\n",
      "cons.conf.idx     41188 non-null float64\n",
      "euribor3m         41188 non-null float64\n",
      "nr.employed       41188 non-null float64\n",
      "y                 41188 non-null object\n",
      "dtypes: float64(5), int64(5), object(11)\n",
      "memory usage: 6.6+ MB\n"
     ]
    }
   ],
   "source": [
    "data = pd.read_csv(\"./bank-additional-full.csv\", sep=\";\",header=0)\n",
    "data.info()"
   ]
  },
  {
   "cell_type": "markdown",
   "metadata": {},
   "source": [
    "&nbsp;\n",
    "\n",
    "<p style=\"text-align:justify;\">On remarque qu'il y a des variables de type object, elles sont donc catégorielles. Il n'y a pas de valeurs manquantes.</p>\n",
    "\n",
    "<p style=\"text-align:justify;\">Visualisation des variables catégorielles et numériques.</p>\n",
    "&nbsp;\n"
   ]
  },
  {
   "cell_type": "code",
   "execution_count": 75,
   "metadata": {},
   "outputs": [
    {
     "name": "stdout",
     "output_type": "stream",
     "text": [
      "\n",
      " On a 10 variables numeriques : \n",
      " ['age', 'duration', 'campaign', 'pdays', 'previous', 'emp.var.rate', 'cons.price.idx', 'cons.conf.idx', 'euribor3m', 'nr.employed'] \n",
      "\n",
      " On a 10 variables categorielles : \n",
      " ['job', 'marital', 'education', 'default', 'housing', 'loan', 'contact', 'month', 'day_of_week', 'poutcome'] \n"
     ]
    }
   ],
   "source": [
    "# variables numeriques\n",
    "var_num = list(data.columns[(data.dtypes==\"int\")|(data.dtypes==\"float\")])\n",
    "print(\"\\n On a {} variables numeriques : \\n {} \".format(len(var_num),var_num))\n",
    "# Variables categorielles\n",
    "var_cat = list(data.columns[data.dtypes==\"object\"].drop(\"y\"))\n",
    "print(\"\\n On a {} variables categorielles : \\n {} \".format(len(var_cat),var_cat))"
   ]
  },
  {
   "cell_type": "markdown",
   "metadata": {},
   "source": [
    "&nbsp;\n",
    "\n",
    "<p style=\"text-align:justify;\">Analyse statistique et sommaire des données à disposition en fonction des catégories.</p>\n",
    "\n",
    "&nbsp;\n"
   ]
  },
  {
   "cell_type": "code",
   "execution_count": 76,
   "metadata": {},
   "outputs": [
    {
     "name": "stdout",
     "output_type": "stream",
     "text": [
      "\n",
      " Categories une des variables ['married' 'single' 'divorced' 'unknown']\n",
      "\n",
      " Analyse statistique selon la variable marital\n",
      "Moyenne\n",
      "                age    duration  campaign       pdays  previous  emp.var.rate  \\\n",
      "marital                                                                         \n",
      "divorced  44.899393  253.790330   2.61340  968.639853  0.168690      0.163985   \n",
      "married   42.307165  257.438623   2.57281  967.247673  0.155608      0.183625   \n",
      "single    33.158714  261.524378   2.53380  949.909578  0.211359     -0.167989   \n",
      "unknown   40.275000  312.725000   3.18750  937.100000  0.275000     -0.221250   \n",
      "\n",
      "          cons.price.idx  cons.conf.idx  euribor3m  nr.employed  \n",
      "marital                                                          \n",
      "divorced       93.606563     -40.707069   3.715603  5170.878643  \n",
      "married        93.597367     -40.270659   3.745832  5171.848772  \n",
      "single         93.517300     -40.918698   3.317447  5155.199265  \n",
      "unknown        93.471250     -40.820000   3.313037  5157.393750  \n",
      "Variance\n",
      "                 age      duration   campaign         pdays  previous  \\\n",
      "marital                                                                 \n",
      "divorced  112.903344  62014.081164   7.001451  29234.337193  0.236122   \n",
      "married   100.363904  66998.379672   7.983466  30527.538768  0.217010   \n",
      "single     56.769482  69674.097962   7.223375  46331.594659  0.306063   \n",
      "unknown   116.303165  81275.315823  14.331487  58202.875949  0.303165   \n",
      "\n",
      "          emp.var.rate  cons.price.idx  cons.conf.idx  euribor3m  nr.employed  \n",
      "marital                                                                        \n",
      "divorced      2.280652        0.319143      19.865823   2.840117  4942.510320  \n",
      "married       2.354026        0.329734      20.829013   2.832686  4783.493374  \n",
      "single        2.698756        0.347663      22.984282   3.322932  6079.239089  \n",
      "unknown       2.732328        0.395758      25.624658   3.258742  4904.818062  \n"
     ]
    },
    {
     "name": "stderr",
     "output_type": "stream",
     "text": [
      "/anaconda3/lib/python3.6/site-packages/seaborn/categorical.py:1460: FutureWarning: remove_na is deprecated and is a private function. Do not use.\n",
      "  stat_data = remove_na(group_data)\n"
     ]
    },
    {
     "data": {
      "image/png": "[encoded data removed]",
      "text/plain": [
       "<matplotlib.figure.Figure at 0x1a1adc77b8>"
      ]
     },
     "metadata": {},
     "output_type": "display_data"
    }
   ],
   "source": [
    "# Examen une des variables categorielles\n",
    "print(\"\\n Categories une des variables {}\".format(data[\"marital\"].unique()))\n",
    "plt.figure()\n",
    "sb.countplot(x = \"marital\", data = data)\n",
    "# analyse statistique selon la variable categorielle\n",
    "print(\"\\n Analyse statistique selon la variable marital\")\n",
    "print(\"Moyenne\")\n",
    "print(data.groupby(\"marital\").mean())\n",
    "print(\"Variance\")\n",
    "print(data.groupby(\"marital\").var())"
   ]
  },
  {
   "cell_type": "code",
   "execution_count": 77,
   "metadata": {},
   "outputs": [
    {
     "name": "stdout",
     "output_type": "stream",
     "text": [
      "\n",
      " Categories une des variables ['basic.4y' 'high.school' 'basic.6y' 'basic.9y' 'professional.course'\n",
      " 'unknown' 'university.degree' 'illiterate']\n",
      "\n",
      " Analyse statistique selon la variable marital\n",
      "Moyenne\n",
      "                           age    duration  campaign       pdays  previous  \\\n",
      "education                                                                    \n",
      "basic.4y             47.596504  264.827826  2.600575  965.704981  0.147031   \n",
      "basic.6y             40.448953  264.414485  2.556283  980.368237  0.129145   \n",
      "basic.9y             39.061208  261.291811  2.532341  979.133168  0.141439   \n",
      "high.school          37.998213  260.886810  2.568576  964.358382  0.185917   \n",
      "illiterate           48.500000  276.777778  2.277778  943.833333  0.111111   \n",
      "professional.course  40.080107  252.533855  2.586115  960.765974  0.163075   \n",
      "university.degree    38.879191  253.223373  2.563527  951.807692  0.192390   \n",
      "unknown              43.481225  262.390526  2.596187  942.830734  0.226459   \n",
      "\n",
      "                     emp.var.rate  cons.price.idx  cons.conf.idx  euribor3m  \\\n",
      "education                                                                     \n",
      "basic.4y                 0.215924       93.658309     -40.239871   3.751768   \n",
      "basic.6y                 0.231152       93.650062     -41.127880   3.772942   \n",
      "basic.9y                 0.159239       93.623399     -41.326749   3.697963   \n",
      "high.school              0.032937       93.584857     -40.940641   3.556157   \n",
      "illiterate              -0.133333       93.317333     -39.950000   3.516556   \n",
      "professional.course      0.173012       93.569864     -40.124108   3.710457   \n",
      "university.degree       -0.028090       93.493466     -39.975805   3.529663   \n",
      "unknown                  0.059099       93.658615     -39.877816   3.571098   \n",
      "\n",
      "                     nr.employed  \n",
      "education                         \n",
      "basic.4y             5170.124880  \n",
      "basic.6y             5174.718063  \n",
      "basic.9y             5172.294012  \n",
      "high.school          5164.994735  \n",
      "illiterate           5171.777778  \n",
      "professional.course  5170.155979  \n",
      "university.degree    5163.226298  \n",
      "unknown              5159.549509  \n",
      "Variance\n",
      "                            age      duration  campaign         pdays  \\\n",
      "education                                                               \n",
      "basic.4y             147.036433  68934.305439  8.818146  31966.180248   \n",
      "basic.6y              75.508087  73666.110100  6.129961  18164.631693   \n",
      "basic.9y              91.880436  65884.972410  7.739730  19327.029418   \n",
      "high.school           94.235965  68686.273186  7.643683  33196.723977   \n",
      "illiterate           119.794118  91743.006536  2.565359  54780.500000   \n",
      "professional.course   97.940548  70720.691099  7.599746  36488.627594   \n",
      "university.degree     92.588840  64418.131575  7.639426  44662.112600   \n",
      "unknown              155.960774  59889.594222  7.409673  52603.834338   \n",
      "\n",
      "                     previous  emp.var.rate  cons.price.idx  cons.conf.idx  \\\n",
      "education                                                                    \n",
      "basic.4y             0.208796      2.404113        0.342171      21.826297   \n",
      "basic.6y             0.152673      2.162556        0.329921      18.569737   \n",
      "basic.9y             0.169105      2.190360        0.325599      17.968442   \n",
      "high.school          0.254584      2.458341        0.346892      20.773226   \n",
      "illiterate           0.104575      2.988235        0.401721      27.405000   \n",
      "professional.course  0.229220      2.388709        0.312109      21.454009   \n",
      "university.degree    0.289358      2.659974        0.321585      22.959160   \n",
      "unknown              0.389149      2.724511        0.370153      22.041415   \n",
      "\n",
      "                     euribor3m  nr.employed  \n",
      "education                                    \n",
      "basic.4y              2.919260  5139.967532  \n",
      "basic.6y              2.725440  3663.093344  \n",
      "basic.9y              2.799720  3843.929630  \n",
      "high.school           3.065091  5102.196210  \n",
      "illiterate            3.205895  3995.708889  \n",
      "professional.course   2.923097  5438.548058  \n",
      "university.degree     3.120708  5968.931744  \n",
      "unknown               3.290961  6632.116605  \n"
     ]
    },
    {
     "name": "stderr",
     "output_type": "stream",
     "text": [
      "/anaconda3/lib/python3.6/site-packages/seaborn/categorical.py:1460: FutureWarning: remove_na is deprecated and is a private function. Do not use.\n",
      "  stat_data = remove_na(group_data)\n"
     ]
    },
    {
     "data": {
      "image/png": "[encoded data removed]",
      "text/plain": [
       "<matplotlib.figure.Figure at 0x1a1adc7860>"
      ]
     },
     "metadata": {},
     "output_type": "display_data"
    }
   ],
   "source": [
    "# Examen une des variables categorielles\n",
    "print(\"\\n Categories une des variables {}\".format(data[\"education\"].unique()))\n",
    "plt.figure()\n",
    "sb.countplot(x = \"education\", data = data)\n",
    "# analyse statistique selon la variable categorielle\n",
    "print(\"\\n Analyse statistique selon la variable marital\")\n",
    "print(\"Moyenne\")\n",
    "print(data.groupby(\"education\").mean())\n",
    "print(\"Variance\")\n",
    "print(data.groupby(\"education\").var())"
   ]
  },
  {
   "cell_type": "markdown",
   "metadata": {},
   "source": [
    "&nbsp;\n",
    "\n",
    "<p style=\"text-align:justify;\">On peut remarquer que les données ont des ordres de grandeur de valeurs différentes donc il sera nécessaire de les normaliser.</p>\n",
    "\n",
    "&nbsp;"
   ]
  },
  {
   "cell_type": "code",
   "execution_count": 78,
   "metadata": {},
   "outputs": [
    {
     "name": "stdout",
     "output_type": "stream",
     "text": [
      "no     36548\n",
      "yes     4640\n",
      "Name: y, dtype: int64\n"
     ]
    }
   ],
   "source": [
    "print(data[\"y\"].value_counts())"
   ]
  },
  {
   "cell_type": "markdown",
   "metadata": {},
   "source": [
    "&nbsp;\n",
    "\n",
    "<p style=\"text-align:justify;\">Les deux classes sont de tailles très différentes puisque il y a 36548 pour la modalité \"no\" et 4640 pour la modalité \"yes\".</p>\n",
    "\n",
    "&nbsp;"
   ]
  },
  {
   "cell_type": "markdown",
   "metadata": {},
   "source": [
    "&nbsp;\n",
    "\n",
    "## 2.2 Encodage des variables catégorielles\n",
    "\n",
    "&nbsp;"
   ]
  },
  {
   "cell_type": "markdown",
   "metadata": {},
   "source": [
    "&nbsp;\n",
    "\n",
    "<p style=\"text-align:justify;\">Il n’est pas pratique de mettre en oeuvre des algorithmes de classification de type SVM ou\n",
    "régression logistique sur des variables catégorielles. Il convient de les transformer en valeur numérique. Pour cela nous utilisons le principe du one hot encoding.</p>\n",
    "\n",
    "&nbsp;\n",
    "\n"
   ]
  },
  {
   "cell_type": "code",
   "execution_count": 79,
   "metadata": {},
   "outputs": [
    {
     "name": "stdout",
     "output_type": "stream",
     "text": [
      "Avant one-hot encoding\n",
      "Index(['age', 'job', 'marital', 'education', 'default', 'housing', 'loan',\n",
      "       'contact', 'month', 'day_of_week', 'duration', 'campaign', 'pdays',\n",
      "       'previous', 'poutcome', 'emp.var.rate', 'cons.price.idx',\n",
      "       'cons.conf.idx', 'euribor3m', 'nr.employed', 'y'],\n",
      "      dtype='object')\n",
      "(41188, 21)\n",
      "Apres one-hot encoding\n",
      "Index(['age', 'duration', 'campaign', 'pdays', 'previous', 'emp.var.rate',\n",
      "       'cons.price.idx', 'cons.conf.idx', 'euribor3m', 'nr.employed', 'y',\n",
      "       'job_admin.', 'job_blue-collar', 'job_entrepreneur', 'job_housemaid',\n",
      "       'job_management', 'job_retired', 'job_self-employed', 'job_services',\n",
      "       'job_student', 'job_technician', 'job_unemployed', 'job_unknown',\n",
      "       'marital_divorced', 'marital_married', 'marital_single',\n",
      "       'marital_unknown', 'education_basic.4y', 'education_basic.6y',\n",
      "       'education_basic.9y', 'education_high.school', 'education_illiterate',\n",
      "       'education_professional.course', 'education_university.degree',\n",
      "       'education_unknown', 'default_no', 'default_unknown', 'default_yes',\n",
      "       'housing_no', 'housing_unknown', 'housing_yes', 'loan_no',\n",
      "       'loan_unknown', 'loan_yes', 'contact_cellular', 'contact_telephone',\n",
      "       'month_apr', 'month_aug', 'month_dec', 'month_jul', 'month_jun',\n",
      "       'month_mar', 'month_may', 'month_nov', 'month_oct', 'month_sep',\n",
      "       'day_of_week_fri', 'day_of_week_mon', 'day_of_week_thu',\n",
      "       'day_of_week_tue', 'day_of_week_wed', 'poutcome_failure',\n",
      "       'poutcome_nonexistent', 'poutcome_success'],\n",
      "      dtype='object')\n",
      "(41188, 64)\n"
     ]
    }
   ],
   "source": [
    "#%% encoder les labels en utilisant la classe LabelEncoder() de scikit pour avoir des labels numeriques\n",
    "\n",
    "# encodeur\n",
    "encode_lab = LabelEncoder()\n",
    "# encoder d abord les labels en 0 - 1\n",
    "data[\"y\"] = encode_lab.fit_transform(data[\"y\"].values)\n",
    "# encoder en hot-encoding les autres variables categorielles\n",
    "print(\"Avant one-hot encoding\")\n",
    "print(data.columns)\n",
    "print(data.shape)\n",
    "# encodage\n",
    "data = pd.get_dummies(data, columns=var_cat)\n",
    "print(\"Apres one-hot encoding\")\n",
    "print(data.columns)\n",
    "print(data.shape)"
   ]
  },
  {
   "cell_type": "markdown",
   "metadata": {},
   "source": [
    "&nbsp;\n",
    "\n",
    "<p style=\"text-align:justify;\">On obtient alors un nombre de colonnes égales aux colonnes numériques + la somme des modalités des variables catégorielles.</p>\n",
    "\n",
    "&nbsp;"
   ]
  },
  {
   "cell_type": "markdown",
   "metadata": {},
   "source": [
    "&nbsp;\n",
    "\n",
    "## 2.3 Réalisation de la classification\n",
    "\n",
    "&nbsp;"
   ]
  },
  {
   "cell_type": "code",
   "execution_count": 295,
   "metadata": {
    "collapsed": true
   },
   "outputs": [],
   "source": [
    "Y = data[\"y\"].values\n",
    "X = data.drop(\"y\", axis=1).values"
   ]
  },
  {
   "cell_type": "code",
   "execution_count": 296,
   "metadata": {},
   "outputs": [],
   "source": [
    "import numpy as np\n",
    "import matplotlib.pyplot as plt\n",
    "from matplotlib.colors import ListedColormap\n",
    "\n",
    "from sklearn import datasets\n",
    "from sklearn.discriminant_analysis import LinearDiscriminantAnalysis\n",
    "from sklearn.discriminant_analysis import QuadraticDiscriminantAnalysis\n",
    "%matplotlib inline"
   ]
  },
  {
   "cell_type": "markdown",
   "metadata": {},
   "source": [
    "&nbsp;\n",
    "\n",
    "### LDA & QDA\n",
    "\n",
    "<p style=\"text-align:justify;\"></p>\n",
    "\n",
    "&nbsp;"
   ]
  },
  {
   "cell_type": "code",
   "execution_count": 297,
   "metadata": {
    "collapsed": true
   },
   "outputs": [],
   "source": [
    "Xa, Xt, Ya, Yt = train_test_split(X, Y, shuffle=True, test_size=0.4, stratify=Y)"
   ]
  },
  {
   "cell_type": "code",
   "execution_count": 298,
   "metadata": {},
   "outputs": [],
   "source": [
    "sc = StandardScaler()\n",
    "sc = sc.fit(Xa)\n",
    "Xa = sc.transform(Xa)\n",
    "Xt = sc.transform(Xt)"
   ]
  },
  {
   "cell_type": "code",
   "execution_count": 299,
   "metadata": {},
   "outputs": [
    {
     "name": "stderr",
     "output_type": "stream",
     "text": [
      "/anaconda3/lib/python3.6/site-packages/sklearn/discriminant_analysis.py:388: UserWarning: Variables are collinear.\n",
      "  warnings.warn(\"Variables are collinear.\")\n"
     ]
    },
    {
     "name": "stdout",
     "output_type": "stream",
     "text": [
      "LDA : taux derreur apprentissage = 9.145354483651667%\n",
      "LDA : taux derreur test= 8.806749210973537%\n",
      "\n",
      " \n",
      "\n"
     ]
    },
    {
     "name": "stderr",
     "output_type": "stream",
     "text": [
      "/anaconda3/lib/python3.6/site-packages/sklearn/discriminant_analysis.py:682: UserWarning: Variables are collinear\n",
      "  warnings.warn(\"Variables are collinear\")\n"
     ]
    },
    {
     "name": "stdout",
     "output_type": "stream",
     "text": [
      "QDA : taux derreur apprentissage = 54.63742311427646%\n",
      "QDA : taux derreur test = 54.97693614955086%\n"
     ]
    }
   ],
   "source": [
    "# LDA\n",
    "clf_lda = LinearDiscriminantAnalysis(solver='svd', store_covariance = False)\n",
    "clf_lda.fit(Xa, Ya)\n",
    "Y_lda = clf_lda.predict(Xa)\n",
    "err_lda = sum(Y_lda != Ya)/Ya.size\n",
    "print('LDA : taux d''erreur apprentissage = {}%'.format(100*err_lda))\n",
    "Y_ldat = clf_lda.predict(Xt)\n",
    "err_ldat = sum(Y_ldat != Yt)/Yt.size\n",
    "print('LDA : taux d''erreur test= {}%'.format(100*err_ldat))\n",
    "\n",
    "print('\\n \\n')\n",
    "# QDA\n",
    "clf_qda = QuadraticDiscriminantAnalysis(store_covariance = False)\n",
    "clf_qda.fit(Xa, Ya)\n",
    "Y_qda = clf_qda.predict(Xa)\n",
    "err_qda = sum(Y_qda!= Ya)/Ya.size\n",
    "print('QDA : taux d''erreur apprentissage = {}%'.format(100*err_qda))\n",
    "Y_qdat = clf_qda.predict(Xt)\n",
    "err_qdat = sum(Y_qdat!= Yt)/Yt.size\n",
    "print('QDA : taux d''erreur test = {}%'.format(100*err_qdat))"
   ]
  },
  {
   "cell_type": "markdown",
   "metadata": {},
   "source": [
    "&nbsp;\n",
    "\n",
    "### Regression logistique\n",
    "\n",
    "<p style=\"text-align:justify;\"></p>\n",
    "\n",
    "&nbsp;"
   ]
  },
  {
   "cell_type": "code",
   "execution_count": 99,
   "metadata": {
    "collapsed": true
   },
   "outputs": [],
   "source": [
    "# decoupage des donnees initiales en app et test (proportion a choisir)\n",
    "Xa, Xt, Ya, Yt = train_test_split(X, Y, shuffle=True, test_size =0.3, stratify=Y)\n",
    "\n",
    "# les donnees app sont ensuite re-decoupees en app et validation (proportion au choix)\n",
    "#Xa, Xv, Ya, Yv = train_test_split(Xa, Ya, shuffle=True, test_size=0.3, stratify=Ya)\n",
    "\n",
    "#Normaliser les données\n",
    "sc = StandardScaler(with_mean=True, with_std=True)\n",
    "sc = sc.fit(Xa)\n",
    "Xa = sc.transform(Xa)\n",
    "#Xv = sc.transform(Xv)\n",
    "Xt = sc.transform(Xt)"
   ]
  },
  {
   "cell_type": "code",
   "execution_count": 104,
   "metadata": {},
   "outputs": [
    {
     "name": "stdout",
     "output_type": "stream",
     "text": [
      "Fitting 10 folds for each of 50 candidates, totalling 500 fits\n"
     ]
    },
    {
     "name": "stderr",
     "output_type": "stream",
     "text": [
      "[Parallel(n_jobs=2)]: Done  46 tasks      | elapsed:   16.3s\n",
      "[Parallel(n_jobs=2)]: Done 196 tasks      | elapsed:  1.2min\n",
      "[Parallel(n_jobs=2)]: Done 446 tasks      | elapsed:  2.6min\n",
      "[Parallel(n_jobs=2)]: Done 500 out of 500 | elapsed:  2.9min finished\n"
     ]
    },
    {
     "data": {
      "text/plain": [
       "GridSearchCV(cv=10, error_score='raise',\n",
       "       estimator=LogisticRegression(C=1.0, class_weight=None, dual=False, fit_intercept=True,\n",
       "          intercept_scaling=1, max_iter=100, multi_class='multinomial',\n",
       "          n_jobs=1, penalty='l2', random_state=None, solver='lbfgs',\n",
       "          tol=1e-05, verbose=0, warm_start=False),\n",
       "       fit_params=None, iid=True, n_jobs=2,\n",
       "       param_grid=[{'C': array([ 0.1    ,  0.10985,  0.12068,  0.13257,  0.14563,  0.15999,\n",
       "        0.17575,  0.19307,  0.2121 ,  0.233  ,  0.25595,  0.28118,\n",
       "        0.30888,  0.33932,  0.37276,  0.40949,  0.44984,  0.49417,\n",
       "        0.54287,  0.59636,  0.65513,  0.71969,  0.7906 ,  0.86851,\n",
       "        0.9541...87,\n",
       "        5.17947,  5.68987,  6.25055,  6.86649,  7.54312,  8.28643,\n",
       "        9.10298, 10.     ])}],\n",
       "       pre_dispatch='2*n_jobs', refit=True, return_train_score='warn',\n",
       "       scoring='accuracy', verbose=1)"
      ]
     },
     "execution_count": 104,
     "metadata": {},
     "output_type": "execute_result"
    }
   ],
   "source": [
    "C_grid = np.logspace(-1, 1, 50)\n",
    "#C_grid = [i/100 for i in range (1, 150)]\n",
    "from sklearn.model_selection import GridSearchCV\n",
    "# the grid\n",
    "parameters = [{\"C\": C_grid}]\n",
    "# the classifier\n",
    "clf_reg = linear_model.LogisticRegression(tol=1e-5, multi_class='multinomial', solver='lbfgs')\n",
    "# Perf a K-fold validation using the accuracy as the performance measure\n",
    "K = 10 # feel free to adapt the value of $K$\n",
    "# we will dot it on a grid search using n_jobs processors\n",
    "clf_reg = GridSearchCV(clf_reg, param_grid=parameters, cv=K, scoring=\"accuracy\", verbose=1, n_jobs = 2)\n",
    "clf_reg.fit(Xa, Ya)"
   ]
  },
  {
   "cell_type": "code",
   "execution_count": 108,
   "metadata": {},
   "outputs": [
    {
     "name": "stdout",
     "output_type": "stream",
     "text": [
      "\n",
      "Regression logistique - optimal hyper-parameters = {'C': 1.8420699693267153}\n",
      "Regression logistique - best cross-val accuracy = 0.9108598383684229 \n",
      "\n",
      "Regression logistique : taux derreur apprentissage = 8.879331275363324%\n",
      "Regression logistique : taux derreur test = 8.8451889617221%\n"
     ]
    }
   ],
   "source": [
    "# Get the best parameters\n",
    "print(\"\\nRegression logistique - optimal hyper-parameters = {}\".format(clf_reg.best_params_))\n",
    "print(\"Regression logistique - best cross-val accuracy = {} \\n\".format(clf_reg.best_score_))\n",
    "\n",
    "y_app_reg = clf_reg.predict(Xa)\n",
    "err_app_reg = sum(y_app_reg != Ya)/Ya.size\n",
    "print('Regression logistique : taux d''erreur apprentissage = {}%'.format(100*err_app_reg))\n",
    "\n",
    "y_test_reg = clf_reg.predict(Xt)\n",
    "err_test_reg = sum(y_test_reg != Yt)/Yt.size\n",
    "print('Regression logistique : taux d''erreur test = {}%'.format(100*err_test_reg))"
   ]
  },
  {
   "cell_type": "markdown",
   "metadata": {},
   "source": [
    "&nbsp;\n",
    "\n",
    "### SVM linéaire\n",
    "\n",
    "<p style=\"text-align:justify;\"></p>\n",
    "\n",
    "&nbsp;"
   ]
  },
  {
   "cell_type": "code",
   "execution_count": 303,
   "metadata": {},
   "outputs": [],
   "source": [
    "# decoupage des donnees initiales en app et test (proportion a choisir)\n",
    "Xa, Xt, Ya, Yt = train_test_split(X, Y, shuffle=True, test_size =0.5, stratify=Y)\n",
    "\n",
    "#Normaliser les données\n",
    "sc = StandardScaler(with_mean=True, with_std=True)\n",
    "sc = sc.fit(Xa)\n",
    "Xa = sc.transform(Xa)\n",
    "Xt = sc.transform(Xt)"
   ]
  },
  {
   "cell_type": "code",
   "execution_count": 304,
   "metadata": {},
   "outputs": [
    {
     "name": "stdout",
     "output_type": "stream",
     "text": [
      "Fitting 5 folds for each of 7 candidates, totalling 35 fits\n"
     ]
    },
    {
     "name": "stderr",
     "output_type": "stream",
     "text": [
      "[Parallel(n_jobs=2)]: Done  35 out of  35 | elapsed: 52.6min finished\n"
     ]
    },
    {
     "data": {
      "text/plain": [
       "GridSearchCV(cv=5, error_score='raise',\n",
       "       estimator=SVC(C=1.0, cache_size=200, class_weight=None, coef0=0.0,\n",
       "  decision_function_shape='ovr', degree=3, gamma='auto', kernel='linear',\n",
       "  max_iter=-1, probability=True, random_state=None, shrinking=True,\n",
       "  tol=0.001, verbose=False),\n",
       "       fit_params=None, iid=True, n_jobs=2,\n",
       "       param_grid=[{'C': array([ 0.1    ,  0.21544,  0.46416,  1.     ,  2.15443,  4.64159,\n",
       "       10.     ])}],\n",
       "       pre_dispatch='2*n_jobs', refit=True, return_train_score='warn',\n",
       "       scoring='accuracy', verbose=1)"
      ]
     },
     "execution_count": 304,
     "metadata": {},
     "output_type": "execute_result"
    }
   ],
   "source": [
    "C_grid = np.logspace(-1, 1, 7)\n",
    "#C_grid = [i/100 for i in range (1, 150)]\n",
    "from sklearn.model_selection import GridSearchCV\n",
    "# the grid\n",
    "parameters = [{\"C\": C_grid}]\n",
    "# the classifier\n",
    "clf_svm_lin = SVC(kernel='linear', probability=True)\n",
    "# Perf a K-fold validation using the accuracy as the performance measure\n",
    "K = 5 # feel free to adapt the value of $K$\n",
    "# we will dot it on a grid search using n_jobs processors\n",
    "clf_svm_lin = GridSearchCV(clf_svm_lin, param_grid=parameters, cv=K, scoring=\"accuracy\", verbose=1, n_jobs = 2)\n",
    "clf_svm_lin.fit(Xa, Ya)"
   ]
  },
  {
   "cell_type": "code",
   "execution_count": 305,
   "metadata": {},
   "outputs": [
    {
     "name": "stdout",
     "output_type": "stream",
     "text": [
      "\n",
      "SVM linéaire - optimal hyper-parameters = {'C': 0.46415888336127786}\n",
      "SVM linéaire - best cross-val accuracy = 0.9019131785957075 \n",
      "\n",
      "SVM linéaire : taux derreur apprentissage = 8.973487423521414%\n",
      "SVM linéaire : taux derreur test = 9.517335146159075%\n"
     ]
    }
   ],
   "source": [
    "# Get the best parameters\n",
    "print(\"\\nSVM linéaire - optimal hyper-parameters = {}\".format(clf_svm_lin.best_params_))\n",
    "print(\"SVM linéaire - best cross-val accuracy = {} \\n\".format(clf_svm_lin.best_score_))\n",
    "\n",
    "y_app_svm_lin = clf_reg.predict(Xa)\n",
    "err_app_svm_lin = sum(y_app_svm_lin != Ya)/Ya.size\n",
    "print('SVM linéaire : taux d''erreur apprentissage = {}%'.format(100*err_app_svm_lin))\n",
    "\n",
    "y_test_svm_lin = clf_svm_lin.predict(Xt)\n",
    "err_test_svm_lin = sum(y_test_svm_lin != Yt)/Yt.size\n",
    "print('SVM linéaire : taux d''erreur test = {}%'.format(100*err_test_svm_lin))\n"
   ]
  },
  {
   "cell_type": "markdown",
   "metadata": {},
   "source": [
    "&nbsp;\n",
    "\n",
    "### SVM non linéaire\n",
    "\n",
    "<p style=\"text-align:justify;\"></p>\n",
    "\n",
    "&nbsp;"
   ]
  },
  {
   "cell_type": "code",
   "execution_count": 315,
   "metadata": {
    "collapsed": true
   },
   "outputs": [],
   "source": [
    "# decoupage des donnees initiales en app et test (proportion a choisir)\n",
    "Xa, Xt, Ya, Yt = train_test_split(X, Y, shuffle=True, test_size =0.7, stratify=Y)\n",
    "\n",
    "#Normaliser les données\n",
    "sc = StandardScaler(with_mean=True, with_std=True)\n",
    "sc = sc.fit(Xa)\n",
    "Xa = sc.transform(Xa)\n",
    "Xt = sc.transform(Xt)"
   ]
  },
  {
   "cell_type": "code",
   "execution_count": 316,
   "metadata": {
    "collapsed": true
   },
   "outputs": [],
   "source": [
    "gamma_grid = np.logspace(-1.5, 0, 3)\n",
    "C_grid = np.logspace(-1, 1.5, 3)"
   ]
  },
  {
   "cell_type": "code",
   "execution_count": 317,
   "metadata": {},
   "outputs": [
    {
     "name": "stdout",
     "output_type": "stream",
     "text": [
      "Fitting 3 folds for each of 9 candidates, totalling 27 fits\n"
     ]
    },
    {
     "name": "stderr",
     "output_type": "stream",
     "text": [
      "[Parallel(n_jobs=2)]: Done  27 out of  27 | elapsed: 10.7min finished\n"
     ]
    },
    {
     "data": {
      "text/plain": [
       "GridSearchCV(cv=3, error_score='raise',\n",
       "       estimator=SVC(C=1.0, cache_size=1000, class_weight=None, coef0=0.0,\n",
       "  decision_function_shape='ovr', degree=3, gamma='auto', kernel='rbf',\n",
       "  max_iter=-1, probability=True, random_state=None, shrinking=True,\n",
       "  tol=0.01, verbose=False),\n",
       "       fit_params=None, iid=True, n_jobs=2,\n",
       "       param_grid=[{'gamma': array([0.03162, 0.17783, 1.     ]), 'C': array([ 0.1    ,  1.77828, 31.62278])}],\n",
       "       pre_dispatch='2*n_jobs', refit=True, return_train_score='warn',\n",
       "       scoring='accuracy', verbose=1)"
      ]
     },
     "execution_count": 317,
     "metadata": {},
     "output_type": "execute_result"
    }
   ],
   "source": [
    "# the grid\n",
    "parameters = [{\"gamma\": gamma_grid, \"C\": C_grid}]\n",
    "# the classifier\n",
    "clf_svm_rbf = SVC(kernel=\"rbf\", tol=0.01, cache_size = 1000, probability=True)\n",
    "# Perf a K-fold validation using the accuracy as the performance measure\n",
    "K = 3 # feel free to adapt the value of $K$\n",
    "# we will dot it on a grid search using n_jobs processors\n",
    "clf_svm_rbf = GridSearchCV(clf_svm_rbf, param_grid=parameters, cv=K, scoring=\"accuracy\", verbose=1, n_jobs = 2)\n",
    "clf_svm_rbf.fit(Xa, Ya)"
   ]
  },
  {
   "cell_type": "code",
   "execution_count": 318,
   "metadata": {},
   "outputs": [
    {
     "name": "stdout",
     "output_type": "stream",
     "text": [
      "\n",
      "SVM non linéaire - optimal hyper-parameters = {'C': 1.7782794100389228, 'gamma': 0.03162277660168379}\n",
      "SVM non linéaire - best cross-val accuracy = 0.8987536419553254 \n",
      "\n",
      "SVM non linéaire : taux derreur apprentissage = 8.983489802525089%\n",
      "SVM non linéaire : taux derreur test = 9.732241953385127%\n"
     ]
    }
   ],
   "source": [
    "# Get the best parameters\n",
    "print(\"\\nSVM non linéaire - optimal hyper-parameters = {}\".format(clf_svm_rbf.best_params_))\n",
    "print(\"SVM non linéaire - best cross-val accuracy = {} \\n\".format(clf_svm_rbf.best_score_))\n",
    "\n",
    "y_app_svm_rbf = clf_reg.predict(Xa)\n",
    "err_app_svm_rbf = sum(y_app_svm_rbf != Ya)/Ya.size\n",
    "print('SVM non linéaire : taux d''erreur apprentissage = {}%'.format(100*err_app_svm_rbf))\n",
    "\n",
    "y_test_svm_rbf = clf_svm_rbf.predict(Xt)\n",
    "err_test_svm_rbf = sum(y_test_svm_rbf != Yt)/Yt.size\n",
    "print('SVM non linéaire : taux d''erreur test = {}%'.format(100*err_test_svm_rbf))"
   ]
  },
  {
   "cell_type": "markdown",
   "metadata": {},
   "source": [
    "&nbsp;\n",
    "\n",
    "### K plus proches voisins\n",
    "\n",
    "<p style=\"text-align:justify;\"></p>\n",
    "\n",
    "&nbsp;"
   ]
  },
  {
   "cell_type": "code",
   "execution_count": 151,
   "metadata": {
    "collapsed": true
   },
   "outputs": [],
   "source": [
    "# decoupage des donnees initiales en app et test (proportion a choisir)\n",
    "Xa, Xt, Ya, Yt = train_test_split(X, Y, shuffle=True, test_size =0.4, stratify=Y)\n",
    "\n",
    "#Normaliser les données\n",
    "sc = StandardScaler(with_mean=True, with_std=True)\n",
    "sc = sc.fit(Xa)\n",
    "Xa = sc.transform(Xa)\n",
    "Xt = sc.transform(Xt)"
   ]
  },
  {
   "cell_type": "code",
   "execution_count": 157,
   "metadata": {},
   "outputs": [
    {
     "name": "stdout",
     "output_type": "stream",
     "text": [
      "Fitting 5 folds for each of 8 candidates, totalling 40 fits\n"
     ]
    },
    {
     "name": "stderr",
     "output_type": "stream",
     "text": [
      "[Parallel(n_jobs=2)]: Done  40 out of  40 | elapsed: 17.9min finished\n"
     ]
    },
    {
     "data": {
      "text/plain": [
       "GridSearchCV(cv=5, error_score='raise',\n",
       "       estimator=KNeighborsClassifier(algorithm='auto', leaf_size=30, metric='minkowski',\n",
       "           metric_params=None, n_jobs=1, n_neighbors=5, p=2,\n",
       "           weights='uniform'),\n",
       "       fit_params=None, iid=True, n_jobs=2,\n",
       "       param_grid=[{'n_neighbors': [2, 3, 4, 5, 6, 7, 8, 9]}],\n",
       "       pre_dispatch='2*n_jobs', refit=True, return_train_score='warn',\n",
       "       scoring='accuracy', verbose=1)"
      ]
     },
     "execution_count": 157,
     "metadata": {},
     "output_type": "execute_result"
    }
   ],
   "source": [
    "from sklearn.neighbors import KNeighborsClassifier\n",
    "k_values = [k for k in range(2,10)]\n",
    "# the grid\n",
    "parameters = [{\"n_neighbors\": k_values}]\n",
    "# the classifier\n",
    "clf_knn = KNeighborsClassifier()\n",
    "# Perf a K-fold validation using the accuracy as the performance measure\n",
    "K = 5 # feel free to adapt the value of $K$\n",
    "# we will dot it on a grid search using n_jobs processors\n",
    "clf_knn = GridSearchCV(clf_knn, param_grid=parameters, cv=K, scoring=\"accuracy\", verbose=1, n_jobs = 2)\n",
    "clf_knn.fit(Xa, Ya)"
   ]
  },
  {
   "cell_type": "code",
   "execution_count": 158,
   "metadata": {},
   "outputs": [
    {
     "name": "stdout",
     "output_type": "stream",
     "text": [
      "\n",
      "KNN - optimal hyper-parameters = {'n_neighbors': 9}\n",
      "KNN - best cross-val accuracy = 0.8972159274846229 \n",
      "\n",
      "KNN : taux derreur apprentissage = 9.015862738750405%\n",
      "KNN : taux derreur test = 10.378732702112163%\n"
     ]
    }
   ],
   "source": [
    "# Get the best parameters\n",
    "print(\"\\nKNN - optimal hyper-parameters = {}\".format(clf_knn.best_params_))\n",
    "print(\"KNN - best cross-val accuracy = {} \\n\".format(clf_knn.best_score_))\n",
    "\n",
    "y_app_knn = clf_knn.predict(Xa)\n",
    "err_app_knn = sum(y_app_knn != Ya)/Ya.size\n",
    "print('KNN : taux d''erreur apprentissage = {}%'.format(100*err_app_knn))\n",
    "\n",
    "y_test_knn = clf_knn.predict(Xt)\n",
    "err_test_knn = sum(y_test_knn != Yt)/Yt.size\n",
    "print('KNN : taux d''erreur test = {}%'.format(100*err_test_knn))"
   ]
  },
  {
   "cell_type": "markdown",
   "metadata": {},
   "source": [
    "&nbsp;\n",
    "\n",
    "## Comparaison des modèles\n",
    "\n",
    "<p style=\"text-align:justify;\">On split de nouveau les variables pour séléctionner un échantillon test sur lesquelles nous allons faire des prédictions avec les modèles entraînés. On pourrait l'appliquer sur toutes les variables mais le temps de calcul est trop long...</p>\n",
    "\n",
    "&nbsp;"
   ]
  },
  {
   "cell_type": "code",
   "execution_count": 319,
   "metadata": {
    "collapsed": true
   },
   "outputs": [],
   "source": [
    "# decoupage des donnees initiales en app et test (proportion a choisir)\n",
    "Xa, Xt, Ya, Yt = train_test_split(X, Y, shuffle=True, test_size =0.4, stratify=Y)\n",
    "\n",
    "#Normaliser les données\n",
    "sc = StandardScaler(with_mean=True, with_std=True)\n",
    "sc = sc.fit(Xa)\n",
    "Xa = sc.transform(Xa)\n",
    "Xt = sc.transform(Xt)"
   ]
  },
  {
   "cell_type": "code",
   "execution_count": 320,
   "metadata": {},
   "outputs": [],
   "source": [
    "from sklearn.metrics import confusion_matrix\n",
    "from matplotlib.colors import ListedColormap\n",
    "import scipy.io as sio\n",
    "from sklearn.metrics import accuracy_score, roc_curve\n",
    "\n",
    "Y_ldat = clf_lda.predict(Xt)\n",
    "Y_qdat = clf_qda.predict(Xt)\n",
    "y_test_reg = clf_reg.predict(Xt)\n",
    "y_test_svm_lin = clf_svm_lin.predict(Xt)\n",
    "y_test_svm_rbf = clf_svm_rbf.predict(Xt)\n",
    "y_test_knn = clf_knn.predict(Xt)\n",
    "\n",
    "\n",
    "# matrices de confusion\n",
    "confmat1 = confusion_matrix(y_true=Yt, y_pred=Y_ldat)\n",
    "confmat2 = confusion_matrix(y_true=Yt, y_pred=Y_qdat)\n",
    "confmat3 = confusion_matrix(y_true=Yt, y_pred=y_test_reg)\n",
    "confmat4 = confusion_matrix(y_true=Yt, y_pred=y_test_svm_lin)\n",
    "confmat5 = confusion_matrix(y_true=Yt, y_pred=y_test_svm_rbf)\n",
    "confmat6 = confusion_matrix(y_true=Yt, y_pred=y_test_knn)"
   ]
  },
  {
   "cell_type": "code",
   "execution_count": 321,
   "metadata": {},
   "outputs": [
    {
     "data": {
      "image/png": "[encoded data removed]",
      "text/plain": [
       "<matplotlib.figure.Figure at 0x1a1b314320>"
      ]
     },
     "metadata": {},
     "output_type": "display_data"
    },
    {
     "data": {
      "text/html": [
       "<div>\n",
       "<style scoped>\n",
       "    .dataframe tbody tr th:only-of-type {\n",
       "        vertical-align: middle;\n",
       "    }\n",
       "\n",
       "    .dataframe tbody tr th {\n",
       "        vertical-align: top;\n",
       "    }\n",
       "\n",
       "    .dataframe thead th {\n",
       "        text-align: right;\n",
       "    }\n",
       "</style>\n",
       "<table border=\"1\" class=\"dataframe\">\n",
       "  <thead>\n",
       "    <tr style=\"text-align: right;\">\n",
       "      <th></th>\n",
       "      <th>LDA</th>\n",
       "      <th>QDA</th>\n",
       "      <th>Reg. Log</th>\n",
       "      <th>SVM lin</th>\n",
       "      <th>SVM non lin</th>\n",
       "      <th>KNN</th>\n",
       "    </tr>\n",
       "  </thead>\n",
       "  <tbody>\n",
       "    <tr>\n",
       "      <th>Accuracy</th>\n",
       "      <td>0.907745</td>\n",
       "      <td>0.880371</td>\n",
       "      <td>0.910415</td>\n",
       "      <td>0.903253</td>\n",
       "      <td>0.922311</td>\n",
       "      <td>0.905378</td>\n",
       "    </tr>\n",
       "    <tr>\n",
       "      <th>Precision</th>\n",
       "      <td>0.603832</td>\n",
       "      <td>0.319749</td>\n",
       "      <td>0.653226</td>\n",
       "      <td>0.652326</td>\n",
       "      <td>0.723602</td>\n",
       "      <td>0.667418</td>\n",
       "    </tr>\n",
       "    <tr>\n",
       "      <th>Recall</th>\n",
       "      <td>0.526401</td>\n",
       "      <td>0.054957</td>\n",
       "      <td>0.436422</td>\n",
       "      <td>0.302263</td>\n",
       "      <td>0.502155</td>\n",
       "      <td>0.318966</td>\n",
       "    </tr>\n",
       "    <tr>\n",
       "      <th>F-mesure</th>\n",
       "      <td>0.562464</td>\n",
       "      <td>0.523256</td>\n",
       "      <td>0.523256</td>\n",
       "      <td>0.413108</td>\n",
       "      <td>0.592875</td>\n",
       "      <td>0.431644</td>\n",
       "    </tr>\n",
       "  </tbody>\n",
       "</table>\n",
       "</div>"
      ],
      "text/plain": [
       "                LDA       QDA  Reg. Log   SVM lin  SVM non lin       KNN\n",
       "Accuracy   0.907745  0.880371  0.910415  0.903253     0.922311  0.905378\n",
       "Precision  0.603832  0.319749  0.653226  0.652326     0.723602  0.667418\n",
       "Recall     0.526401  0.054957  0.436422  0.302263     0.502155  0.318966\n",
       "F-mesure   0.562464  0.523256  0.523256  0.413108     0.592875  0.431644"
      ]
     },
     "execution_count": 321,
     "metadata": {},
     "output_type": "execute_result"
    }
   ],
   "source": [
    "\n",
    "fig, (ax1, ax2, ax3, ax4, ax5, ax6) = plt.subplots(1, 6,figsize=(20,15))\n",
    "\n",
    "ax1.matshow(confmat1, cmap=plt.cm.Blues, alpha=0.3)\n",
    "ax2.matshow(confmat2, cmap=plt.cm.Blues, alpha=0.3)\n",
    "ax3.matshow(confmat3, cmap=plt.cm.Blues, alpha=0.3)\n",
    "ax4.matshow(confmat4, cmap=plt.cm.Blues, alpha=0.3)\n",
    "ax5.matshow(confmat5, cmap=plt.cm.Blues, alpha=0.3)\n",
    "ax6.matshow(confmat6, cmap=plt.cm.Blues, alpha=0.3)\n",
    "\n",
    "for i in range(confmat1.shape[0]):\n",
    "    for j in range(confmat1.shape[1]):\n",
    "        ax1.text(x=j, y=i, s=confmat1[i, j], va=\"center\", ha=\"center\")\n",
    "ax1.set(xlabel='Label predit', ylabel='Vrai label')\n",
    "ax1.set_title('LDA')\n",
    "\n",
    "for i in range(confmat2.shape[0]):\n",
    "    for j in range(confmat2.shape[1]):\n",
    "        ax2.text(x=j, y=i, s=confmat2[i, j], va=\"center\", ha=\"center\")\n",
    "ax2.set(xlabel='Label predit', ylabel='Vrai label')\n",
    "ax2.set_title('QDA')\n",
    "\n",
    "for i in range(confmat3.shape[0]):\n",
    "    for j in range(confmat3.shape[1]):\n",
    "        ax3.text(x=j, y=i, s=confmat3[i, j], va=\"center\", ha=\"center\")\n",
    "ax3.set(xlabel='Label predit', ylabel='Vrai label')\n",
    "ax3.set_title('Régression logistique')\n",
    "\n",
    "for i in range(confmat4.shape[0]):\n",
    "    for j in range(confmat4.shape[1]):\n",
    "        ax4.text(x=j, y=i, s=confmat4[i, j], va=\"center\", ha=\"center\")\n",
    "ax4.set(xlabel='Label predit', ylabel='Vrai label')\n",
    "ax4.set_title('SVM linéaire')\n",
    "\n",
    "for i in range(confmat5.shape[0]):\n",
    "    for j in range(confmat5.shape[1]):\n",
    "        ax5.text(x=j, y=i, s=confmat5[i, j], va=\"center\", ha=\"center\")\n",
    "ax5.set(xlabel='Label predit', ylabel='Vrai label')\n",
    "ax5.set_title('SVM non linéaire')\n",
    "\n",
    "for i in range(confmat6.shape[0]):\n",
    "    for j in range(confmat6.shape[1]):\n",
    "        ax6.text(x=j, y=i, s=confmat6[i, j], va=\"center\", ha=\"center\")\n",
    "ax6.set(xlabel='Label predit', ylabel='Vrai label')\n",
    "ax6.set_title('KNN')\n",
    "\n",
    "plt.show()\n",
    "\n",
    "import pandas as pd\n",
    "from sklearn.metrics import accuracy_score\n",
    "from sklearn.metrics import precision_score\n",
    "from sklearn.metrics import recall_score\n",
    "from sklearn.metrics import f1_score\n",
    "from sklearn.metrics import cohen_kappa_score\n",
    "from sklearn.metrics import roc_auc_score\n",
    "\n",
    "# accuracy: (tp + tn) / (p + n)\n",
    "# precision tp / (tp + fp)\n",
    "# recall: tp / (tp + fn)\n",
    "# f1: 2 tp / (2 tp + fp + fn)\n",
    "\n",
    "accuracy_lda = accuracy_score(Yt, Y_ldat)\n",
    "precision_lda = precision_score(Yt, Y_ldat)\n",
    "recall_lda = recall_score(Yt, Y_ldat)\n",
    "f1_lda = f1_score(Yt, Y_ldat)\n",
    "\n",
    "accuracy_qda = accuracy_score(Yt, Y_qdat)\n",
    "precision_qda = precision_score(Yt, Y_qdat)\n",
    "recall_qda = recall_score(Yt, Y_qdat)\n",
    "f1_qda = f1_score(Yt, Y_qdat)\n",
    "\n",
    "accuracy_reg = accuracy_score(Yt, y_test_reg)\n",
    "precision_reg = precision_score(Yt, y_test_reg)\n",
    "recall_reg = recall_score(Yt, y_test_reg)\n",
    "f1_reg = f1_score(Yt, y_test_reg)\n",
    "\n",
    "accuracy_svn_lin = accuracy_score(Yt, y_test_svm_lin)\n",
    "precision_svn_lin = precision_score(Yt, y_test_svm_lin)\n",
    "recall_svn_lin = recall_score(Yt, y_test_svm_lin)\n",
    "f1_svn_lin = f1_score(Yt, y_test_svm_lin)\n",
    "\n",
    "accuracy_svn_rbf = accuracy_score(Yt, y_test_svm_rbf)\n",
    "precision_svn_rbf = precision_score(Yt, y_test_svm_rbf)\n",
    "recall_svn_rbf = recall_score(Yt, y_test_svm_rbf)\n",
    "f1_svn_rbf = f1_score(Yt, y_test_svm_rbf)\n",
    "\n",
    "accuracy_knn = accuracy_score(Yt, y_test_knn)\n",
    "precision_knn = precision_score(Yt, y_test_knn)\n",
    "recall_knn = recall_score(Yt, y_test_knn)\n",
    "f1_knn = f1_score(Yt, y_test_knn)\n",
    "\n",
    "resultats = {'LDA':[accuracy_lda, precision_lda, recall_lda, f1_lda],\n",
    "        'QDA':[accuracy_qda, precision_qda, recall_qda, f1_reg],\n",
    "        'Reg. Log':[accuracy_reg, precision_reg, recall_reg, f1_reg],\n",
    "        'SVM lin':[accuracy_svn_lin, precision_svn_lin, recall_svn_lin, f1_svn_lin], \n",
    "        'SVM non lin':[accuracy_svn_rbf, precision_svn_rbf, recall_svn_rbf, f1_svn_rbf], \n",
    "        'KNN':[accuracy_knn, precision_knn, recall_knn, f1_knn]}\n",
    "\n",
    "df_res = pd.DataFrame(resultats, index= ['Accuracy', 'Precision', 'Recall', 'F-mesure'])\n",
    "df_res"
   ]
  },
  {
   "cell_type": "code",
   "execution_count": 324,
   "metadata": {},
   "outputs": [
    {
     "name": "stdout",
     "output_type": "stream",
     "text": [
      "0\n"
     ]
    },
    {
     "data": {
      "image/png": "[encoded data removed]",
      "text/plain": [
       "<matplotlib.figure.Figure at 0x1a1898ab00>"
      ]
     },
     "metadata": {},
     "output_type": "display_data"
    },
    {
     "name": "stdout",
     "output_type": "stream",
     "text": [
      "1\n"
     ]
    },
    {
     "data": {
      "image/png": "[encoded data removed]",
      "text/plain": [
       "<matplotlib.figure.Figure at 0x1a18e96908>"
      ]
     },
     "metadata": {},
     "output_type": "display_data"
    },
    {
     "name": "stdout",
     "output_type": "stream",
     "text": [
      "2\n"
     ]
    },
    {
     "data": {
      "image/png": "[encoded data removed]",
      "text/plain": [
       "<matplotlib.figure.Figure at 0x1a1886f7f0>"
      ]
     },
     "metadata": {},
     "output_type": "display_data"
    },
    {
     "name": "stdout",
     "output_type": "stream",
     "text": [
      "3\n"
     ]
    },
    {
     "data": {
      "image/png": "[encoded data removed]",
      "text/plain": [
       "<matplotlib.figure.Figure at 0x1a1987b358>"
      ]
     },
     "metadata": {},
     "output_type": "display_data"
    },
    {
     "name": "stdout",
     "output_type": "stream",
     "text": [
      "4\n"
     ]
    },
    {
     "data": {
      "image/png": "[encoded data removed]",
      "text/plain": [
       "<matplotlib.figure.Figure at 0x1a185e00f0>"
      ]
     },
     "metadata": {},
     "output_type": "display_data"
    },
    {
     "name": "stdout",
     "output_type": "stream",
     "text": [
      "5\n"
     ]
    },
    {
     "data": {
      "image/png": "[encoded data removed]",
      "text/plain": [
       "<matplotlib.figure.Figure at 0x1a18c65cf8>"
      ]
     },
     "metadata": {},
     "output_type": "display_data"
    }
   ],
   "source": [
    "from sklearn.metrics import roc_curve\n",
    "from sklearn.metrics import roc_auc_score\n",
    "\n",
    "\n",
    "def plot_roc_curve(fpr, tpr, AUC, modele):\n",
    "    plt.plot(fpr, tpr, color='orange', label='ROC - AUC = ' + str(round(AUC,2)))\n",
    "    plt.plot([0, 1], [0, 1], color='darkblue', linestyle='--')\n",
    "    plt.xlabel('False Positive Rate')\n",
    "    plt.ylabel('True Positive Rate')\n",
    "    plt.title('Receiver Operating Characteristic (ROC) Curve - ' + modele)\n",
    "    plt.legend()\n",
    "    plt.show()\n",
    "\n",
    "Y_ldat_proba = clf_lda.predict_proba(Xt)\n",
    "Y_qdat_proba = clf_qda.predict_proba(Xt)\n",
    "y_test_reg_proba = clf_reg.predict_proba(Xt)\n",
    "y_test_svm_lin_proba = clf_svm_lin.predict_proba(Xt)\n",
    "y_test_svm_rbf_proba = clf_svm_rbf.predict_proba(Xt)\n",
    "y_test_knn_proba = clf_knn.predict_proba(Xt)\n",
    "\n",
    "modele = [\"LDA\", \"QDA\", \"Reg. Log\", \"SVM Lin\", \"SVM non lin\", \"KNN\"]\n",
    "res = [Y_ldat_proba[:,1], Y_qdat_proba[:,1], y_test_reg_proba[:,1], y_test_svm_lin_proba[:,1], y_test_svm_rbf_proba[:,1], y_test_knn_proba[:,1]]\n",
    "\n",
    "for i, nom_modele in enumerate(modele): \n",
    "    print(i)\n",
    "    auc = metrics.roc_auc_score(Yt, res[i])    \n",
    "    fpr, tpr, thresholds = roc_curve(Yt, res[i])\n",
    "    plt.figure(figsize=(16, 12))\n",
    "    plt.subplot(3,2,i+1)\n",
    "    plot_roc_curve(fpr, tpr, auc, nom_modele)"
   ]
  },
  {
   "cell_type": "markdown",
   "metadata": {},
   "source": [
    "&nbsp;\n",
    "\n",
    "<p style=\"text-align:justify;\">Nous allons comparer les modèles LDA, regréssion logistique et SVM non linéaire.</p>\n",
    "\n",
    "&nbsp;"
   ]
  },
  {
   "cell_type": "code",
   "execution_count": 328,
   "metadata": {},
   "outputs": [
    {
     "data": {
      "text/html": [
       "<div>\n",
       "<style scoped>\n",
       "    .dataframe tbody tr th:only-of-type {\n",
       "        vertical-align: middle;\n",
       "    }\n",
       "\n",
       "    .dataframe tbody tr th {\n",
       "        vertical-align: top;\n",
       "    }\n",
       "\n",
       "    .dataframe thead th {\n",
       "        text-align: right;\n",
       "    }\n",
       "</style>\n",
       "<table border=\"1\" class=\"dataframe\">\n",
       "  <thead>\n",
       "    <tr style=\"text-align: right;\">\n",
       "      <th></th>\n",
       "      <th>LDA / Reg. log</th>\n",
       "      <th>LDA / SVM non lin</th>\n",
       "      <th>Reg. Log / SVM non lin</th>\n",
       "    </tr>\n",
       "  </thead>\n",
       "  <tbody>\n",
       "    <tr>\n",
       "      <th>Statistic</th>\n",
       "      <td>2.300000e+01</td>\n",
       "      <td>3.590000e+02</td>\n",
       "      <td>446.000000</td>\n",
       "    </tr>\n",
       "    <tr>\n",
       "      <th>p-value</th>\n",
       "      <td>2.772643e-90</td>\n",
       "      <td>1.200867e-24</td>\n",
       "      <td>0.125238</td>\n",
       "    </tr>\n",
       "  </tbody>\n",
       "</table>\n",
       "</div>"
      ],
      "text/plain": [
       "           LDA / Reg. log  LDA / SVM non lin  Reg. Log / SVM non lin\n",
       "Statistic    2.300000e+01       3.590000e+02              446.000000\n",
       "p-value      2.772643e-90       1.200867e-24                0.125238"
      ]
     },
     "execution_count": 328,
     "metadata": {},
     "output_type": "execute_result"
    }
   ],
   "source": [
    "from sklearn.metrics.cluster import contingency_matrix\n",
    "from statsmodels.stats.contingency_tables import mcnemar \n",
    "\n",
    "TC_LDA_REGLOG = contingency_matrix(Y_ldat, y_test_reg )\n",
    "TC_LDA_SVM_NL = contingency_matrix(Y_ldat, y_test_svm_rbf )\n",
    "TC_REGLOG_SVM_NL = contingency_matrix(y_test_reg, y_test_svm_rbf )\n",
    "\n",
    "result_LDA_REGLOG = mcnemar(TC_LDA_REGLOG, exact=True)\n",
    "result_LDA_SVM_NL = mcnemar(TC_LDA_SVM_NL, exact=True)\n",
    "result_REGLOG_SVM_NL = mcnemar(TC_REGLOG_SVM_NL, exact=True)\n",
    "\n",
    "resultats = {'LDA / Reg. log':[result_LDA_REGLOG.statistic, result_LDA_REGLOG.pvalue],\n",
    "        'LDA / SVM non lin':[result_LDA_SVM_NL.statistic, result_LDA_SVM_NL.pvalue],\n",
    "        'Reg. Log / SVM non lin':[result_REGLOG_SVM_NL.statistic, result_REGLOG_SVM_NL.pvalue]}\n",
    "\n",
    "df_res = pd.DataFrame(resultats, index= ['Statistic', 'p-value'])\n",
    "df_res"
   ]
  },
  {
   "cell_type": "code",
   "execution_count": null,
   "metadata": {},
   "outputs": [],
   "source": []
  },
  {
   "cell_type": "code",
   "execution_count": null,
   "metadata": {},
   "outputs": [],
   "source": []
  },
  {
   "cell_type": "code",
   "execution_count": null,
   "metadata": {},
   "outputs": [],
   "source": []
  },
  {
   "cell_type": "code",
   "execution_count": null,
   "metadata": {},
   "outputs": [],
   "source": []
  },
  {
   "cell_type": "code",
   "execution_count": null,
   "metadata": {},
   "outputs": [],
   "source": []
  },
  {
   "cell_type": "code",
   "execution_count": null,
   "metadata": {},
   "outputs": [],
   "source": []
  },
  {
   "cell_type": "code",
   "execution_count": null,
   "metadata": {},
   "outputs": [],
   "source": []
  },
  {
   "cell_type": "code",
   "execution_count": null,
   "metadata": {},
   "outputs": [],
   "source": []
  },
  {
   "cell_type": "code",
   "execution_count": null,
   "metadata": {
    "collapsed": true
   },
   "outputs": [],
   "source": []
  },
  {
   "cell_type": "code",
   "execution_count": null,
   "metadata": {
    "collapsed": true
   },
   "outputs": [],
   "source": []
  }
 ],
 "metadata": {
  "kernelspec": {
   "display_name": "Python 3",
   "language": "python",
   "name": "python3"
  },
  "language_info": {
   "codemirror_mode": {
    "name": "ipython",
    "version": 3
   },
   "file_extension": ".py",
   "mimetype": "text/x-python",
   "name": "python",
   "nbconvert_exporter": "python",
   "pygments_lexer": "ipython3",
   "version": "3.6.7"
  }
 },
 "nbformat": 4,
 "nbformat_minor": 2
}
