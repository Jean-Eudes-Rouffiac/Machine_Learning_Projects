{
 "cells": [
  {
   "cell_type": "markdown",
   "metadata": {},
   "source": [
    "## Jean-Eudes Rouffiac  \n",
    "\n",
    "&nbsp;\n",
    "\n",
    "&nbsp;"
   ]
  },
  {
   "cell_type": "markdown",
   "metadata": {},
   "source": [
    "# <center> TP 1 : Décision Bayésienne - Régression logistique </center>"
   ]
  },
  {
   "cell_type": "markdown",
   "metadata": {},
   "source": [
    "L'objectif de ce TP est triple : \n",
    "* mettre en oeuvre les méthodes LDA et QDA\n",
    "* mettre en oeuvre la méthode de régression logistique\n",
    "* tester sur des problèmes de classification binaire et multi-classe"
   ]
  },
  {
   "cell_type": "code",
   "execution_count": 191,
   "metadata": {
    "collapsed": true
   },
   "outputs": [],
   "source": [
    "import numpy as np\n",
    "import matplotlib.pyplot as plt\n",
    "from matplotlib.colors import ListedColormap\n",
    "\n",
    "from sklearn import datasets\n",
    "from sklearn.discriminant_analysis import LinearDiscriminantAnalysis\n",
    "from sklearn.discriminant_analysis import QuadraticDiscriminantAnalysis\n",
    "%matplotlib inline"
   ]
  },
  {
   "cell_type": "markdown",
   "metadata": {},
   "source": [
    "# 1 Analyse discriminante linéaire et quadratique"
   ]
  },
  {
   "cell_type": "markdown",
   "metadata": {},
   "source": [
    "\n",
    "\n",
    "&nbsp;\n",
    "\n",
    "## 1.1 Prise en main\n",
    "\n",
    "&nbsp;\n",
    "\n",
    "<p style=\"text-align:justify;\"> Dans un premier temps, nous allons expliquer les différentes étapes du script *SimpleLDA_QDA.py*. \n",
    "Les lignes ci-dessous permettent de charger le dataset Iris, de stocker dans deux variables X et Y les données des 4 variables explicatives ainsi que la classe correspondante.\n",
    "On stocke aussi dans les variables \"classes\" et \"nbpoints\" le nom de la classe ainsi que le nombre de points qu'elle contient. On affiche alors toutes ces informations.</p>"
   ]
  },
  {
   "cell_type": "code",
   "execution_count": 192,
   "metadata": {},
   "outputs": [
    {
     "name": "stdout",
     "output_type": "stream",
     "text": [
      "Nombre de points : 150\n",
      "Nombre de variables : 4\n",
      "Nombre de classes : 3\n",
      "Classe 0 comprend 50 points\n",
      "Classe 1 comprend 50 points\n",
      "Classe 2 comprend 50 points\n"
     ]
    }
   ],
   "source": [
    "iris = datasets.load_iris()\n",
    "X, Y = iris.data, iris.target\n",
    "print('Nombre de points : {}'.format(X.shape[0]))\n",
    "print('Nombre de variables : {}'.format(X.shape[1]))\n",
    "print('Nombre de classes : {}'.format(len(np.unique(Y))))\n",
    "classes, nbpoints = np.unique(Y, return_counts=True)\n",
    "for i, lab in enumerate(classes):\n",
    "    print('Classe {} comprend {} points'.format(lab, nbpoints[i]))"
   ]
  },
  {
   "cell_type": "markdown",
   "metadata": {},
   "source": [
    "&nbsp;\n",
    "\n",
    "<p style=\"text-align:justify;\"> On va maintenant tester deux méthodes qui permettent de prédire la classe d'appartenance d'un individu à une classe à partir de ses variables explicatives. Ces méthodes sont LDA (linear discriminant analysis) et QDA (quadractic discriminant analysis). Les fonctions *LinearDiscriminantAnalysis* et *QuadraticDiscrminnantAnalysis* de la librairie *Scikit-Learn* sont utilisées. \n",
    "Dans un premier temps, le modèle est appelé. Notons que pour les deux méthodes, nous souhaitons que les matrices de covariance soient calculées pour pouvoir les afficher prochainement. Donc le paramètre \"store_covariance\" est fixé à true car par défaut les matrices de covariances ne sont pas calculées. Pour la LDA, le solver utilisé est \"svd\" qui est la décomposition en valeur singulière. Les modèles sont alors entraînées avec les données X et les classes correspondantes Y. Une fois les modèles entrainés, on passe aux modèles les données X puis on compare les classes prédites avec la vraie valeur des classes. Le score est alors affiché.</p>"
   ]
  },
  {
   "cell_type": "code",
   "execution_count": 193,
   "metadata": {},
   "outputs": [
    {
     "name": "stdout",
     "output_type": "stream",
     "text": [
      "LDA : taux derreur = 2.0%\n",
      "QDA : taux derreur = 2.0%\n"
     ]
    }
   ],
   "source": [
    "# LDA\n",
    "clf_lda = LinearDiscriminantAnalysis(solver='svd', store_covariance = True)\n",
    "clf_lda.fit(X, Y)\n",
    "Y_lda = clf_lda.predict(X)\n",
    "err_lda = sum(Y_lda != Y)/Y.size\n",
    "print('LDA : taux d''erreur = {}%'.format(100*err_lda))\n",
    "\n",
    "# QDA\n",
    "clf_qda = QuadraticDiscriminantAnalysis(store_covariance = True)\n",
    "clf_qda.fit(X, Y)\n",
    "#print(clf_qda.means_)\n",
    "Y_qda = clf_qda.predict(X)\n",
    "err_qda = sum(Y_qda!= Y)/Y.size\n",
    "print('QDA : taux d''erreur = {}%'.format(100*err_qda))"
   ]
  },
  {
   "cell_type": "markdown",
   "metadata": {},
   "source": [
    "&nbsp;\n",
    "\n",
    "<p style=\"text-align:justify;\"> Pour les deux méthodes, le score obtenu est de 2%.</p>\n",
    "\n",
    "&nbsp;\n",
    "\n",
    "<p style=\"text-align:justify;\"> On affiche maintenant les centres et matrices de covariances de la LDA et QDA.</p>"
   ]
  },
  {
   "cell_type": "code",
   "execution_count": 194,
   "metadata": {},
   "outputs": [
    {
     "name": "stdout",
     "output_type": "stream",
     "text": [
      "[[5.006 3.418 1.464 0.244]\n",
      " [5.936 2.77  4.26  1.326]\n",
      " [6.588 2.974 5.552 2.026]]\n",
      "[[0.259708   0.09122    0.16409333 0.037704  ]\n",
      " [0.09122    0.11356667 0.05413333 0.03275467]\n",
      " [0.16409333 0.05413333 0.18146667 0.04169067]\n",
      " [0.037704   0.03275467 0.04169067 0.04117067]]\n",
      "[[5.006 3.418 1.464 0.244]\n",
      " [5.936 2.77  4.26  1.326]\n",
      " [6.588 2.974 5.552 2.026]]\n",
      "[array([[0.12424898, 0.10029796, 0.01613878, 0.01054694],\n",
      "       [0.10029796, 0.14517959, 0.01168163, 0.01143673],\n",
      "       [0.01613878, 0.01168163, 0.03010612, 0.00569796],\n",
      "       [0.01054694, 0.01143673, 0.00569796, 0.01149388]]), array([[0.26643265, 0.08518367, 0.18289796, 0.05577959],\n",
      "       [0.08518367, 0.09846939, 0.08265306, 0.04120408],\n",
      "       [0.18289796, 0.08265306, 0.22081633, 0.07310204],\n",
      "       [0.05577959, 0.04120408, 0.07310204, 0.03910612]]), array([[0.40434286, 0.09376327, 0.3032898 , 0.04909388],\n",
      "       [0.09376327, 0.10400408, 0.07137959, 0.04762857],\n",
      "       [0.3032898 , 0.07137959, 0.30458776, 0.04882449],\n",
      "       [0.04909388, 0.04762857, 0.04882449, 0.07543265]])]\n"
     ]
    }
   ],
   "source": [
    "# Parametres estimes par LDA\n",
    "print(clf_lda.means_)\n",
    "print(clf_lda.covariance_)\n",
    "# Parametres estimes par QDA\n",
    "print(clf_qda.means_)\n",
    "print(clf_qda.covariance_)"
   ]
  },
  {
   "cell_type": "markdown",
   "metadata": {},
   "source": [
    "&nbsp;\n",
    "\n",
    "<p style=\"text-align:justify;\"> On a affiché les moyennes de chaque variable caractéristique par classe. On constate que les variables 3 et 4 sont plus disciminantes ques les deux premières. \n",
    "On observe aussi qu'une seule matrice de covariance est affichée pour la LDA contre 3 pour la QDA. Ce résultat est logique car dans le cadre de la LDA, on fait l'hypothèse que la matrice de covariance est la même pour chaque classe.</p>\n",
    "\n",
    "&nbsp;"
   ]
  },
  {
   "cell_type": "code",
   "execution_count": 195,
   "metadata": {},
   "outputs": [
    {
     "data": {
      "image/png": "[encoded data removed]",
      "text/plain": [
       "<matplotlib.figure.Figure at 0x1a1c6fd390>"
      ]
     },
     "metadata": {},
     "output_type": "display_data"
    },
    {
     "data": {
      "image/png": "[encoded data removed]",
      "text/plain": [
       "<matplotlib.figure.Figure at 0x1a1d2aa668>"
      ]
     },
     "metadata": {},
     "output_type": "display_data"
    }
   ],
   "source": [
    "def plot_regions_decision_2d(X, y, classifier, resolution=0.02, titre=' '):\n",
    "\n",
    "    # setup marker generator and color map\n",
    "    markers = ('s', 'x', 'o', '^', 'v')\n",
    "    colors = ('red', 'blue', 'lightgreen', 'gray', 'cyan')\n",
    "    cmap = ListedColormap(colors[:len(np.unique(y))])\n",
    "\n",
    "    # plot the decision surface\n",
    "    x1_min, x1_max = X[:, 0].min() - 0, X[:, 0].max() + 0\n",
    "    x2_min, x2_max = X[:, 1].min() - 0, X[:, 1].max() + 0\n",
    "    xx1, xx2 = np.meshgrid(np.arange(x1_min, x1_max, resolution),\n",
    "                         np.arange(x2_min, x2_max, resolution))\n",
    "    Z = classifier.predict(np.array([xx1.ravel(), xx2.ravel()]).T)\n",
    "    Z = Z.reshape(xx1.shape)\n",
    "    plt.figure()\n",
    "    plt.contourf(xx1, xx2, Z, alpha=0.4, cmap=cmap)\n",
    "    plt.xlim(xx1.min(), xx1.max())\n",
    "    plt.ylim(xx2.min(), xx2.max())\n",
    "\n",
    "    # plot class samples\n",
    "    for idx, cl in enumerate(np.unique(y)):\n",
    "        plt.scatter(x=X[y == cl, 0], y=X[y == cl, 1],\n",
    "                    alpha=0.6, c=cmap(idx),\n",
    "                    marker=markers[idx], label= 'classe {}'.format(cl))\n",
    "    plt.legend(loc='best')\n",
    "    plt.title(titre, fontsize=12)\n",
    "    \n",
    "    \n",
    "#%% ### Trace de la frontiere de decision en 2D\n",
    "# Utilisation de 2 variables choisies parmi les 4. \n",
    "#On fait le modele LDA et QDA que pour ces variables\n",
    "\n",
    "variables = [2, 3]\n",
    "\n",
    "## on ne fait ceci que pour le trace de la frontiere de decision de la LDA et QDA en 2D\n",
    "#classifieur = 'LDA'\n",
    "\n",
    "clf_lda.fit(X[:,variables], Y) \n",
    "plot_regions_decision_2d(X[:,variables], Y, clf_lda, 0.02, titre='LDA')\n",
    "\n",
    "\n",
    "clf_qda.fit(X[:,variables], Y) \n",
    "plot_regions_decision_2d(X[:,variables], Y, clf_qda, 0.02, titre='QDA')"
   ]
  },
  {
   "cell_type": "markdown",
   "metadata": {},
   "source": [
    "&nbsp;\n",
    "\n",
    "<p style=\"text-align:justify;\"> Dans un premier temps, on observe que les deux modèles classifient plutôt bien les données. Ensuite, on observe bien la différence entre la LDA et la QDA car les données sont séparées linéairement pour la LDA, alors que pour la QDA on observe bien le côté quadratique.</p>\n",
    "\n",
    "&nbsp;"
   ]
  },
  {
   "cell_type": "markdown",
   "metadata": {},
   "source": [
    "\n",
    "\n",
    "&nbsp;\n",
    "\n",
    "## 1.2 Classification binaire\n",
    "\n",
    "&nbsp;\n",
    "\n",
    "<p style=\"text-align:justify;\"> Dans cette partie nous allons nous intéresser au data set \"Cardiotocography\". Il est composé de 2126 données et 23 attributs. La variable à prédire est la variable \"NSP\" qui prend 3 valeurs : N=normal, S=suspect, et P=pathologic.</p>\n",
    "\n",
    "&nbsp;"
   ]
  },
  {
   "cell_type": "code",
   "execution_count": 196,
   "metadata": {
    "collapsed": true
   },
   "outputs": [],
   "source": [
    "import numpy as np\n",
    "import pandas as pd\n",
    "import seaborn as sb\n",
    "import matplotlib.pyplot as plt\n",
    "from sklearn.model_selection import train_test_split\n",
    "from sklearn.preprocessing import StandardScaler"
   ]
  },
  {
   "cell_type": "code",
   "execution_count": 71,
   "metadata": {
    "collapsed": true
   },
   "outputs": [],
   "source": [
    "df = pd.read_csv(\"./CTGSimple.csv\", sep=\"\\t\",header=1)\n",
    "Y = df[\"NSP\"].values\n",
    "variables = [\"LB\",\"AC.1\",\"FM.1\",\"UC.1\",\"DL.1\",\"DS.1\",\"DP.1\",\"ASTV\", \"MSTV\",\"ALTV\",\"MLTV\", \"Width\",\"Min\",\"Max\",\"Nmax\", \"Nzeros\",\"Mode\",\"Mean\",\"Median\",\"Variance\",\"Tendency\"]\n",
    "X = df[variables].values"
   ]
  },
  {
   "cell_type": "code",
   "execution_count": 72,
   "metadata": {},
   "outputs": [
    {
     "name": "stdout",
     "output_type": "stream",
     "text": [
      "Classe 1 contient 1655 points\n",
      "Classe 2 contient 295 points\n",
      "Classe 3 contient 176 points\n"
     ]
    },
    {
     "data": {
      "text/plain": [
       "<matplotlib.axes._subplots.AxesSubplot at 0x1a1d62fef0>"
      ]
     },
     "execution_count": 72,
     "metadata": {},
     "output_type": "execute_result"
    },
    {
     "data": {
      "image/png": "[encoded data removed]",
      "text/plain": [
       "<matplotlib.figure.Figure at 0x1a1cff1c50>"
      ]
     },
     "metadata": {},
     "output_type": "display_data"
    }
   ],
   "source": [
    "uniqLabels, counts = np.unique(Y, return_counts=True)\n",
    "for i, lab in enumerate(uniqLabels):\n",
    "    print( \"Classe {} contient {} points\".format(lab, counts[i]))\n",
    "corr_mat = np.corrcoef(X.T)\n",
    "sb.heatmap(corr_mat)"
   ]
  },
  {
   "cell_type": "markdown",
   "metadata": {},
   "source": [
    "&nbsp;\n",
    "\n",
    "<p style=\"text-align:justify;\"> On remarque une grande disparité dans les trois classes puisque la classe 1 est représentée 1655 fois contre 295 pour la classe 2 et 176 pour la classe 3.\n",
    "La matrice de corrélation indique que certaines variables sont très corrélées, comme les variables \"Mean\", \"Median\" ainsi que \"Mode\".</p>\n",
    "\n",
    "&nbsp;"
   ]
  },
  {
   "cell_type": "code",
   "execution_count": 73,
   "metadata": {},
   "outputs": [
    {
     "data": {
      "image/png": "[encoded data removed]",
      "text/plain": [
       "<matplotlib.figure.Figure at 0x1a1d4990f0>"
      ]
     },
     "metadata": {},
     "output_type": "display_data"
    }
   ],
   "source": [
    "plt.figure(figsize=(15, 10))\n",
    "box = plt.boxplot(X)\n",
    "box = plt.xticks([i + 1 for i in range(0,21)], variables, rotation='vertical')"
   ]
  },
  {
   "cell_type": "markdown",
   "metadata": {},
   "source": [
    "&nbsp;\n",
    "\n",
    "<p style=\"text-align:justify;\"> L'affichage des boxplots nous permet de voir que les variables n'ont pas toutes le même ordre de grandeur. Certaines vairables prennent des valeurs allant jusqu'à plus de 250 alors que certaines ont pour grandeur maximale 10. Pour pallier ce problème, les variables doivent donc être normalisées.</p>\n",
    "\n",
    "&nbsp;\n",
    "\n",
    "<p style=\"text-align:justify;\"> Dans la suite du TP, les classes 2 (suspect ) et 3 (pathologic) sont regroupées.</p>\n",
    "\n",
    "&nbsp;"
   ]
  },
  {
   "cell_type": "code",
   "execution_count": 74,
   "metadata": {
    "collapsed": true
   },
   "outputs": [],
   "source": [
    "classe = 3\n",
    "Y[np.in1d(Y, classe)] = 2"
   ]
  },
  {
   "cell_type": "markdown",
   "metadata": {},
   "source": [
    "&nbsp;\n",
    "\n",
    "<p style=\"text-align:justify;\"> Avec la fonction *train_test_split* de *Scikit-Learn*, on sépare le jeu de données en 2 : un jeu de données d'apprentissage et un jeu de données test. Le paramètre \"shuffle\" permet de mélanger les données avant de les séparer. Ce paramètre est important car si les données sont organisées de façon à ce que par exemple les 1000 premières données du data set sont la classe 1 et les 300 suivants la classe 2, si on sépare le jeu de données en 2, le jeu d'entraînement de contiendra aucunes aucunes données de la classe 2. Par défaut la valeur de \"shuffle\" est \"true\". stratify ?</p>\n",
    "\n",
    "&nbsp;"
   ]
  },
  {
   "cell_type": "code",
   "execution_count": 75,
   "metadata": {
    "collapsed": true
   },
   "outputs": [],
   "source": [
    "Xa, Xt, Ya, Yt = train_test_split(X, Y, shuffle=True, test_size=0.5, stratify=Y)"
   ]
  },
  {
   "cell_type": "markdown",
   "metadata": {},
   "source": [
    "&nbsp;\n",
    "\n",
    "<p style=\"text-align:justify;\"> On centre et réduit les données. Il n'est pas conseillé de faire cet enchaînement : sc = sc.fit(Xa) ; Xa = sc.transform(Xa) ; sc = sc.fit(Xt) ; Xt = sc.transform(Xt). En effet lorsqu'on centre et réduit les données d'apprentissage, dans un sens on projette les données dans un nouvel espace. On entraîne ensuite un modèle sur ces nouvelles données. Il faut alors que le modèle fasse des prédictions sur des données qui sont dans le même espace, donc il faut transformer les données du jeu de données test de la même façon que les données du jeu d'apprentissage. </p>\n",
    "\n",
    "&nbsp;"
   ]
  },
  {
   "cell_type": "code",
   "execution_count": 76,
   "metadata": {
    "collapsed": true
   },
   "outputs": [],
   "source": [
    "sc = StandardScaler(with_mean=True, with_std=True)\n",
    "sc = sc.fit(Xa)\n",
    "Xa = sc.transform(Xa)\n",
    "Xt = sc.transform(Xt)"
   ]
  },
  {
   "cell_type": "markdown",
   "metadata": {},
   "source": [
    "&nbsp;\n",
    "\n",
    "<p style=\"text-align:justify;\"> On va maintenant réaliser une classification par la LDA puis la méthode QDA. Pour chaque méthode on calculera et affichera les erreurs de classification sur les données d'aprentissage et test. </p>\n",
    "\n",
    "&nbsp;"
   ]
  },
  {
   "cell_type": "code",
   "execution_count": 77,
   "metadata": {},
   "outputs": [
    {
     "name": "stdout",
     "output_type": "stream",
     "text": [
      "LDA : taux derreur apprentissage = 10.818438381937911%\n",
      "LDA : taux derreur test= 10.630291627469427%\n",
      "\n",
      " \n",
      "\n",
      "QDA : taux derreur apprentissage = 18.438381937911572%\n",
      "QDA : taux derreur test = 18.532455315145814%\n"
     ]
    },
    {
     "name": "stderr",
     "output_type": "stream",
     "text": [
      "/anaconda3/lib/python3.6/site-packages/sklearn/discriminant_analysis.py:388: UserWarning: Variables are collinear.\n",
      "  warnings.warn(\"Variables are collinear.\")\n",
      "/anaconda3/lib/python3.6/site-packages/sklearn/discriminant_analysis.py:682: UserWarning: Variables are collinear\n",
      "  warnings.warn(\"Variables are collinear\")\n"
     ]
    }
   ],
   "source": [
    "# LDA\n",
    "clf_lda = LinearDiscriminantAnalysis(solver='svd', store_covariance = True)\n",
    "clf_lda.fit(Xa, Ya)\n",
    "Y_lda = clf_lda.predict(Xa)\n",
    "err_lda = sum(Y_lda != Ya)/Ya.size\n",
    "print('LDA : taux d''erreur apprentissage = {}%'.format(100*err_lda))\n",
    "Y_ldat = clf_lda.predict(Xt)\n",
    "err_ldat = sum(Y_ldat != Yt)/Yt.size\n",
    "print('LDA : taux d''erreur test= {}%'.format(100*err_ldat))\n",
    "\n",
    "print('\\n \\n')\n",
    "# QDA\n",
    "clf_qda = QuadraticDiscriminantAnalysis(store_covariance = True)\n",
    "clf_qda.fit(Xa, Ya)\n",
    "Y_qda = clf_qda.predict(Xa)\n",
    "err_qda = sum(Y_qda!= Ya)/Ya.size\n",
    "print('QDA : taux d''erreur apprentissage = {}%'.format(100*err_qda))\n",
    "Y_qdat = clf_qda.predict(Xt)\n",
    "err_qdat = sum(Y_qdat!= Yt)/Yt.size\n",
    "print('QDA : taux d''erreur test = {}%'.format(100*err_qdat))"
   ]
  },
  {
   "cell_type": "markdown",
   "metadata": {},
   "source": [
    "&nbsp;\n",
    "\n",
    "<p style=\"text-align:justify;\"> On a affiché pour chaque méthode le taux d'erreur en apprentissage et en test pour s'assurer de la validité de notre méthode. En effet, il faut que le score en apprentissage et en test soit sensiblement le même, sinon c'est qu'il y a une erreur. Ici pour les deux méthodes, le taux d'erreur en apprentissage et en test est presque le même donc les modèles sont correctes. \n",
    "On observe de meilleures performances avec la LDA (environ 10%) que la QDA (environ 18%).</p>\n",
    "\n",
    "&nbsp;"
   ]
  },
  {
   "cell_type": "markdown",
   "metadata": {},
   "source": [
    "\n",
    "\n",
    "&nbsp;\n",
    "\n",
    "## 1.3 Cas multi-classe : données Mnist\n",
    "\n",
    "&nbsp;\n",
    "\n",
    "<p style=\"text-align:justify;\"> Dans cette partie nous allons nous intéresser au data set \"Mnist\". Il est composé de 60000 données d'apprentissage et de 10000 données testet 23. Cette base de données contient des images de chiffres manuscrits. Au total il y a 784 pixels qui forment nos 784 variables explicative. Le but est donc de classifier chaque image à partir des 784 attributs.</p>\n",
    "\n",
    "&nbsp;"
   ]
  },
  {
   "cell_type": "code",
   "execution_count": 197,
   "metadata": {
    "collapsed": true
   },
   "outputs": [],
   "source": [
    "# Instruction ci-dessous est a mettre en en-tete de votre programme\n",
    "import scipy.io as sio\n",
    "# Chargement des donnees\n",
    "digits_app = sio.loadmat(\"mnist-app.mat\")\n",
    "Xa, Ya = digits_app[\"Xa\"], digits_app[\"Ya\"][:,0]\n",
    "digits_test = sio.loadmat(\"mnist-test.mat\")\n",
    "Xt, Yt = digits_test[\"Xt\"], digits_test[\"Yt\"][:,0]"
   ]
  },
  {
   "cell_type": "markdown",
   "metadata": {},
   "source": [
    "&nbsp;\n",
    "\n",
    "<p style=\"text-align:justify;\"> Dans la suite de l'étude, nous allons garder que les variables donc la variance est supériere à 0.001. Cela permettra de garder que les variables qui influent vraiment sur la classification.</p>\n",
    "\n",
    "&nbsp;"
   ]
  },
  {
   "cell_type": "code",
   "execution_count": 183,
   "metadata": {},
   "outputs": [
    {
     "name": "stderr",
     "output_type": "stream",
     "text": [
      "/anaconda3/lib/python3.6/site-packages/sklearn/utils/validation.py:475: DataConversionWarning: Data with input dtype uint8 was converted to float64 by StandardScaler.\n",
      "  warnings.warn(msg, DataConversionWarning)\n"
     ]
    }
   ],
   "source": [
    "tol = 1e-3\n",
    "std_a = np.std(Xa, 0)\n",
    "idx_var = np.squeeze(np.where(std_a > tol))\n",
    "Xa = Xa[:, idx_var]\n",
    "Xt = Xt[:, idx_var]\n",
    "\n",
    "sc = StandardScaler(with_mean=True, with_std=True)\n",
    "sc = sc.fit(Xa)\n",
    "Xa = sc.transform(Xa)\n",
    "Xt = sc.transform(Xt)"
   ]
  },
  {
   "cell_type": "markdown",
   "metadata": {},
   "source": [
    "&nbsp;\n",
    "\n",
    "<p style=\"text-align:justify;\"> Nous appliquons maintenant la LDA sur ces données et affichons le score de classification en apprentissage et en test. </p>\n",
    "\n",
    "&nbsp;"
   ]
  },
  {
   "cell_type": "code",
   "execution_count": 184,
   "metadata": {},
   "outputs": [
    {
     "name": "stderr",
     "output_type": "stream",
     "text": [
      "/anaconda3/lib/python3.6/site-packages/sklearn/discriminant_analysis.py:442: UserWarning: The priors do not sum to 1. Renormalizing\n",
      "  UserWarning)\n",
      "/anaconda3/lib/python3.6/site-packages/sklearn/discriminant_analysis.py:388: UserWarning: Variables are collinear.\n",
      "  warnings.warn(\"Variables are collinear.\")\n"
     ]
    },
    {
     "name": "stdout",
     "output_type": "stream",
     "text": [
      "LDA : taux derreur apprentissage = 12.851666666666667%\n",
      "LDA : taux derreur test= 12.7%\n"
     ]
    }
   ],
   "source": [
    "# LDA\n",
    "clf_lda = LinearDiscriminantAnalysis(solver='svd', store_covariance = True)\n",
    "clf_lda.fit(Xa, Ya)\n",
    "Y_lda = clf_lda.predict(Xa)\n",
    "err_lda = sum(Y_lda != Ya)/Ya.size\n",
    "print('LDA : taux d''erreur apprentissage = {}%'.format(100*err_lda))\n",
    "Y_ldat = clf_lda.predict(Xt)\n",
    "err_ldat = sum(Y_ldat != Yt)/Yt.size\n",
    "print('LDA : taux d''erreur test= {}%'.format(100*err_ldat))"
   ]
  },
  {
   "cell_type": "markdown",
   "metadata": {},
   "source": [
    "&nbsp;\n",
    "\n",
    "<p style=\"text-align:justify;\"> Nous obtenons alors un taux d'erreur en test de 12.7%.</p>\n",
    "\n",
    "&nbsp;"
   ]
  },
  {
   "cell_type": "markdown",
   "metadata": {},
   "source": [
    "\n",
    "\n",
    "&nbsp;\n",
    "\n",
    "# 2. Régression logistique\n",
    "\n",
    "&nbsp;\n",
    "\n",
    "<p style=\"text-align:justify;\"> Le but de cette partie est d'appliquer la méthode de régression logistique sur les données des exercices 1.2 et 1.3 et de comparer les résultats obtenus avec l'approche LDA. Le problème d'optimisation à résoudre est de la forme $$ \\min_{\\theta} C J(\\theta) + \\Omega (\\theta)$$ avec $C$ un paramètre de régularisation fixé par l'utilisateur, $\\Omega(\\theta)$ le terme de régularisation et $-J(\\theta)$ la log-vraisemblance.</p>"
   ]
  },
  {
   "cell_type": "markdown",
   "metadata": {},
   "source": [
    "&nbsp;\n",
    "\n",
    "# 2.1 Introduction\n",
    "\n",
    "&nbsp;\n",
    "\n",
    "<p style=\"text-align:justify;\"> Le script suivant illustre la régression logistique sur les données *iris*. Dans un premier temps, le jeu de données est séparé en un jeu de données d'apprentissage et un jeu de données de validation. Un modèle de régression logistique est instancié avec une tolérance de $1e-5$, une valeur de multi_class égale à \"multinomial\" (car les données sont regroupées en 3 classes). La régression contient un hyper-paramètre $C$ qu'il va falloir choisir de façon à ce que notre modèle donne le meilleur résultat possible. Pour chaque valeure de $C$, une regression logistique est entraînée sur les données d'apprentissage puis le modèle est utilisé en prédiction sur les données de validation. Le taux d'erreur en apprentissage et en validation (calculées grâce à la fonction *accuracy_score* de *Scikit-Learn*) sont stockées dans un tableau. Une fois tous les $C$ testés, le $C$ optimal est celui qui donne le taux d'erreur le plus bas sur la prédiction des données de validation. \n",
    "On peut alors obtenir le modèle final en entraînant la regression logistique sur les données d'apprentissage avec le $C$ optimal. Puis le modèle est utilisé pour prédire les données de validation.</p>"
   ]
  },
  {
   "cell_type": "code",
   "execution_count": 198,
   "metadata": {},
   "outputs": [
    {
     "name": "stdout",
     "output_type": "stream",
     "text": [
      "Valeur de Copt = 1.6378937069540647\n",
      "Err validation correspondante = 5.333333333333334\n",
      "Err apprentissage correspondante = 0.0\n"
     ]
    },
    {
     "data": {
      "image/png": "[encoded data removed]",
      "text/plain": [
       "<matplotlib.figure.Figure at 0x1a1dd01a20>"
      ]
     },
     "metadata": {},
     "output_type": "display_data"
    }
   ],
   "source": [
    "from __future__ import print_function\n",
    "from __future__ import division\n",
    "import numpy as np\n",
    "import matplotlib.pyplot as plt\n",
    "from matplotlib.colors import ListedColormap\n",
    "\n",
    "from sklearn import linear_model\n",
    "from sklearn import datasets\n",
    "from sklearn.metrics import accuracy_score\n",
    "from sklearn.model_selection import train_test_split\n",
    "\n",
    "iris = datasets.load_iris()\n",
    "X, Y = iris.data, iris.target\n",
    "\n",
    "# Decoupage des donnees en jeu d'apprentissage et de validation\n",
    "# Remarque : la normalisation des donnees est omise dans ce exemple\n",
    "\n",
    "Xa, Xv, Ya, Yv = train_test_split(X, Y, shuffle=True, test_size=1/2, stratify=Y)\n",
    "\n",
    "\n",
    "# Selection de l'hyper-parametre C \n",
    "\n",
    "clf_reglog = linear_model.LogisticRegression(tol=1e-5, multi_class='multinomial', solver='lbfgs')\n",
    "\n",
    "vectC = np.logspace(-3, 2, 15)\n",
    "err_app = np.empty(vectC.shape[0])\n",
    "err_val = np.empty(vectC.shape[0])\n",
    "for ind_C, C in enumerate(vectC):\n",
    "    clf_reglog.C = C\n",
    "    clf_reglog.fit(Xa, Ya)\n",
    "    err_val[ind_C] = 1 - accuracy_score(Yv, clf_reglog.predict(Xv))\n",
    "    err_app[ind_C] = 1 - accuracy_score(Ya, clf_reglog.predict(Xa))\n",
    "\n",
    "# Choix du meilleur C\n",
    "err_min_val, ind_min = err_val.min(), err_val.argmin()\n",
    "Copt = vectC[ind_min]\n",
    "\n",
    "\n",
    "#%% #### Trace des courbes d'erreur d'apprentissage\n",
    "plt.figure()\n",
    "plt.semilogx(vectC, err_val, color='green', linestyle='--', marker='s', markersize=5, label='Validation')\n",
    "plt.semilogx(vectC, err_app, color='blue', linestyle='--', marker='s', markersize=5, label='Apprentissage')\n",
    "plt.xlabel('Parametre C')\n",
    "plt.ylabel('Erreur Classification')\n",
    "plt.legend(loc='best')\n",
    "\n",
    "#%% ##### Model final\n",
    "clf_reglog.C = Copt\n",
    "clf_reglog.fit(Xa, Ya)\n",
    "print('Valeur de Copt = {}'.format(Copt ))\n",
    "print('Err validation correspondante = {}'.format(100*(1 - accuracy_score(Yv, clf_reglog.predict(Xv)))))\n",
    "print('Err apprentissage correspondante = {}'.format(100*(1 - accuracy_score(Ya, clf_reglog.predict(Xa)))))"
   ]
  },
  {
   "cell_type": "markdown",
   "metadata": {},
   "source": [
    "&nbsp;\n",
    "\n",
    "<p style=\"text-align:justify;\"> Graphiquement, on retrouve la valeur du C optimal qui corresspond au point où la coubre de validation (en vert) est minimal.</p>\n",
    "\n",
    "&nbsp;"
   ]
  },
  {
   "cell_type": "markdown",
   "metadata": {},
   "source": [
    "&nbsp;\n",
    "\n",
    "# 2.2 Régression logistique sur problème de classification binaire\n",
    "\n",
    "&nbsp;\n",
    "\n",
    "<p style=\"text-align:justify;\">Dans cette partie nous allons utiliser le même data set que dans la partie 1.2 avec le data set CTGSimple.</p>"
   ]
  },
  {
   "cell_type": "code",
   "execution_count": 173,
   "metadata": {
    "collapsed": true
   },
   "outputs": [],
   "source": [
    "df = pd.read_csv(\"./CTGSimple.csv\", sep=\"\\t\",header=1)\n",
    "Y = df[\"NSP\"].values\n",
    "variables = [\"LB\",\"AC.1\",\"FM.1\",\"UC.1\",\"DL.1\",\"DS.1\",\"DP.1\",\"ASTV\", \"MSTV\",\"ALTV\",\"MLTV\", \"Width\",\"Min\",\"Max\",\"Nmax\", \"Nzeros\",\"Mode\",\"Mean\",\"Median\",\"Variance\",\"Tendency\"]\n",
    "X = df[variables].values\n",
    "\n",
    "#Fusion des classes 2 et 3\n",
    "classe = 3\n",
    "Y[np.in1d(Y, classe)] = 2\n",
    "\n",
    "\n",
    "# decoupage des donnees initiales en app et test (proportion a choisir)\n",
    "Xa, Xt, Ya, Yt = train_test_split(X, Y, shuffle=True, test_size =0.3, stratify=Y)\n",
    "\n",
    "# les donnees app sont ensuite re-decoupees en app et validation (proportion au choix)\n",
    "Xa, Xv, Ya, Yv = train_test_split(Xa, Ya, shuffle=True, test_size=0.3, stratify=Ya)\n",
    "\n",
    "#Normaliser les données\n",
    "sc = StandardScaler(with_mean=True, with_std=True)\n",
    "sc = sc.fit(Xa)\n",
    "Xa = sc.transform(Xa)\n",
    "Xv = sc.transform(Xv)\n",
    "Xt = sc.transform(Xt)"
   ]
  },
  {
   "cell_type": "markdown",
   "metadata": {},
   "source": [
    "\n",
    "&nbsp;\n",
    "\n",
    "<p style=\"text-align:justify;\"> Nous allons maintenant mettre en oeuvre la méthode de régression logistique. Pour ce faire, nous allons utiliser la méthode K folds comme vu dans le TP 1. Nous allons reprendre le même algorithme en l'adaptant à notre problème. Nous prendrons $k=3$ comme paramètre de k folds. </p>\n",
    "\n",
    "\n",
    "&nbsp;"
   ]
  },
  {
   "cell_type": "code",
   "execution_count": 174,
   "metadata": {},
   "outputs": [
    {
     "name": "stdout",
     "output_type": "stream",
     "text": [
      "Le C optimal est 0.061. \n"
     ]
    }
   ],
   "source": [
    "from sklearn.model_selection import KFold\n",
    "\n",
    "kf = KFold(n_splits=3)\n",
    "i = 1\n",
    "\n",
    "vectC = np.logspace(-3, 2, 15)\n",
    "\n",
    "perf_val = [[], [], []]\n",
    "decoupage = 0\n",
    "\n",
    "for train , valid in kf.split(Xa):\n",
    "    X_train = Xa[train,:]\n",
    "    Y_train = Ya[train]\n",
    "    X_valid = Xa[valid,:]\n",
    "    Y_valid = Ya[valid]\n",
    "    \n",
    "    for c in vectC :\n",
    "        clf_reglog = linear_model.LogisticRegression(tol=1e-5, multi_class='multinomial', solver='lbfgs')\n",
    "        clf_reglog.C = c\n",
    "        clf_reglog.fit(X_train, Y_train)\n",
    "        perf_val[decoupage].append(1 - accuracy_score(Y_valid, clf_reglog.predict(X_valid)))\n",
    "    decoupage += 1\n",
    "    \n",
    "perf_globale = np.zeros((len(vectC), 1))\n",
    "for i in range(0, len(vectC)):\n",
    "    perf_globale[i] = perf_val[0][i] + perf_val[1][i] + perf_val[2][i]\n",
    "    perf_globale[i] /= 3\n",
    "c_opt = vectC[np.argmin(perf_globale)]\n",
    "print('Le C optimal est %.3f. ' %c_opt)"
   ]
  },
  {
   "cell_type": "code",
   "execution_count": 175,
   "metadata": {},
   "outputs": [
    {
     "name": "stdout",
     "output_type": "stream",
     "text": [
      "Valeur de Copt = 0.0610540229658533\n",
      "Err classification en test correspondante = 8.777429467084641\n",
      "Err classification en apprentissage correspondante = 9.029779058597498\n"
     ]
    }
   ],
   "source": [
    "clf_reglog = linear_model.LogisticRegression(tol=1e-5, multi_class='multinomial', solver='lbfgs')\n",
    "clf_reglog.C = c_opt\n",
    "clf_reglog.fit(Xa, Ya)\n",
    "print('Valeur de Copt = {}'.format(c_opt ))\n",
    "print('Err classification en test correspondante = {}'.format(100*(1 - accuracy_score(Yt, clf_reglog.predict(Xt)))))\n",
    "print('Err classification en apprentissage correspondante = {}'.format(100*(1 - accuracy_score(Ya, clf_reglog.predict(Xa)))))"
   ]
  },
  {
   "cell_type": "markdown",
   "metadata": {},
   "source": [
    "\n",
    "&nbsp;\n",
    "\n",
    "<p style=\"text-align:justify;\"> Nous obtenons ainsi de meilleurs résultats en test que pour la LDA et la QDA puisque nous avions obtenu les résultats suivants : </p>\n",
    "\n",
    "* LDA : taux derreur apprentissage = 10.818438381937911%\n",
    "* LDA : taux derreur test= 10.630291627469427%\n",
    "\n",
    "* QDA : taux derreur apprentissage = 18.438381937911572%\n",
    "* QDA : taux derreur test = 18.532455315145814%\n",
    "\n",
    "\n",
    "\n",
    "&nbsp;\n",
    "\n",
    "<p style=\"text-align:justify;\"> Affichons maintenant la matrice de confusion : </p>"
   ]
  },
  {
   "cell_type": "code",
   "execution_count": 176,
   "metadata": {},
   "outputs": [
    {
     "data": {
      "text/plain": [
       "Text(0,0.5,'Vrai label')"
      ]
     },
     "execution_count": 176,
     "metadata": {},
     "output_type": "execute_result"
    },
    {
     "data": {
      "image/png": "[encoded data removed]",
      "text/plain": [
       "<matplotlib.figure.Figure at 0x1a1cffc438>"
      ]
     },
     "metadata": {},
     "output_type": "display_data"
    }
   ],
   "source": [
    "from sklearn.metrics import confusion_matrix\n",
    "\n",
    "# Ici on suppose que le modele de regression logistique est nomme clf_reglog dans le code\n",
    "# prediction des labels des donnees de test\n",
    "ypred_test = clf_reglog.predict(Xt)\n",
    "\n",
    "# matrice de confusion\n",
    "confmat = confusion_matrix(y_true=Yt, y_pred=ypred_test)\n",
    "fig, ax = plt.subplots(figsize=(3, 3))\n",
    "ax.matshow(confmat, cmap=plt.cm.Blues, alpha=0.3)\n",
    "\n",
    "for i in range(confmat.shape[0]):\n",
    "    for j in range(confmat.shape[1]):\n",
    "        ax.text(x=j, y=i, s=confmat[i, j], va=\"center\", ha=\"center\")\n",
    "plt.xlabel(\"Label predit\")\n",
    "plt.ylabel(\"Vrai label\")"
   ]
  },
  {
   "cell_type": "markdown",
   "metadata": {},
   "source": [
    "\n",
    "&nbsp;\n",
    "\n",
    "<p style=\"text-align:justify;\"> Le modèle a classé 34 individus comme positif alors qu'ils sont négatifs et 22 individus comme négatifs alors qu'ils sont positifs..</p>\n",
    "\n",
    "&nbsp;"
   ]
  },
  {
   "cell_type": "markdown",
   "metadata": {},
   "source": [
    "&nbsp;\n",
    "\n",
    "# 2.3 Cas multi-classe : données Mnist\n",
    "\n",
    "&nbsp;\n",
    "\n",
    "<p style=\"text-align:justify;\">Dans cette partie nous allons utiliser le même data set que dans la partie 1.3 avec le data set Mnist.</p>\n",
    "\n",
    "&nbsp;\n",
    "\n",
    "<p style=\"text-align:justify;\">Comme pour la partie 1.3, nous filtrons les variables dont la variance est faible (inférieure à 0.001).</p>\n",
    "\n",
    "&nbsp;"
   ]
  },
  {
   "cell_type": "code",
   "execution_count": 207,
   "metadata": {},
   "outputs": [
    {
     "data": {
      "image/png": "[encoded data removed]",
      "text/plain": [
       "<matplotlib.figure.Figure at 0x1a1ccb8f98>"
      ]
     },
     "metadata": {},
     "output_type": "display_data"
    }
   ],
   "source": [
    "# Chargement des donnees\n",
    "digits_app = sio.loadmat(\"mnist-app.mat\")\n",
    "Xa, Ya = digits_app[\"Xa\"], digits_app[\"Ya\"][:,0]\n",
    "digits_test = sio.loadmat(\"mnist-test.mat\")\n",
    "Xt, Yt = digits_test[\"Xt\"], digits_test[\"Yt\"][:,0]\n",
    "\n",
    "plt.imshow(Xa[35].reshape(28,28))\n",
    "\n",
    "tol = 1e-3\n",
    "std_a = np.std(Xa, 0)\n",
    "idx_var = np.squeeze(np.where(std_a > tol))\n",
    "Xa = Xa[:, idx_var]\n",
    "Xt = Xt[:, idx_var]\n",
    "\n",
    "# les donnees app sont ensuite re-decoupees en app et validation (proportion au choix)\n",
    "Xa, Xv, Ya, Yv = train_test_split(Xa, Ya, shuffle=True, test_size=0.3, stratify=Ya)"
   ]
  },
  {
   "cell_type": "code",
   "execution_count": 179,
   "metadata": {},
   "outputs": [
    {
     "name": "stdout",
     "output_type": "stream",
     "text": [
      "Le C optimal est 0.0023. \n"
     ]
    }
   ],
   "source": [
    "kf = KFold(n_splits=10)\n",
    "i = 1\n",
    "\n",
    "vectC = [0.0001,  0.001,  0.01,  0.1, 1, 100, 1000, 10000]\n",
    "\n",
    "perf_val = [[], [], [], [], [], [], [], [], [] ,[]]\n",
    "decoupage = 0\n",
    "\n",
    "for train , valid in kf.split(Xa):\n",
    "    X_train = Xa[train,:]\n",
    "    Y_train = Ya[train]\n",
    "    X_valid = Xa[valid,:]\n",
    "    Y_valid = Ya[valid]\n",
    "    \n",
    "    for c in vectC :\n",
    "        clf_reglog = linear_model.LogisticRegression(tol=1e-5, multi_class='multinomial', solver='lbfgs')\n",
    "        clf_reglog.C = c\n",
    "        clf_reglog.fit(X_train, Y_train)\n",
    "        perf_val[decoupage].append(1 - accuracy_score(Y_valid, clf_reglog.predict(X_valid)))\n",
    "    decoupage += 1\n",
    "    \n",
    "perf_globale = np.zeros((len(vectC), 1))\n",
    "for i in range(0, len(vectC)):\n",
    "    perf_globale[i] = perf_val[0][i] + perf_val[1][i] + perf_val[2][i] + perf_val[3][i] + perf_val[4][i] + perf_val[5][i] + perf_val[6][i] + perf_val[7][i] + perf_val[8][i] + perf_val[9][i] \n",
    "    perf_globale[i] /= 10\n",
    "c_opt = vectC[np.argmin(perf_globale)]\n",
    "print('Le C optimal est %.4f. ' %c_opt)"
   ]
  },
  {
   "cell_type": "code",
   "execution_count": 186,
   "metadata": {},
   "outputs": [
    {
     "data": {
      "text/plain": [
       "<matplotlib.legend.Legend at 0x1a1dba0710>"
      ]
     },
     "execution_count": 186,
     "metadata": {},
     "output_type": "execute_result"
    },
    {
     "data": {
      "image/png": "[encoded data removed]",
      "text/plain": [
       "<matplotlib.figure.Figure at 0x1a1cbb9c50>"
      ]
     },
     "metadata": {},
     "output_type": "display_data"
    }
   ],
   "source": [
    "#%% #### Trace des courbes d'erreur d'apprentissage\n",
    "plt.figure()\n",
    "plt.semilogx(vectC, perf_globale, color='green', linestyle='--', marker='s', markersize=5, label='Validation')\n",
    "#plt.semilogx(vectC, err_app, color='blue', linestyle='--', marker='s', markersize=5, label='Apprentissage')\n",
    "plt.xlabel('Parametre C')\n",
    "plt.ylabel('Erreur Classification')\n",
    "plt.legend(loc='best')"
   ]
  },
  {
   "cell_type": "code",
   "execution_count": 181,
   "metadata": {},
   "outputs": [
    {
     "name": "stdout",
     "output_type": "stream",
     "text": [
      "Valeur de Copt = 0.0022758459260747888\n",
      "Err classification en test correspondante = 7.920000000000005\n",
      "Err classification en apprentissage correspondante = 6.338095238095242\n"
     ]
    }
   ],
   "source": [
    "clf_reglog = linear_model.LogisticRegression(tol=1e-5, multi_class='multinomial', solver='lbfgs')\n",
    "clf_reglog.C = c_opt\n",
    "clf_reglog.fit(Xa, Ya)\n",
    "print('Valeur de Copt = {}'.format(c_opt ))\n",
    "print('Err classification en test correspondante = {}'.format(100*(1 - accuracy_score(Yt, clf_reglog.predict(Xt)))))\n",
    "print('Err classification en apprentissage correspondante = {}'.format(100*(1 - accuracy_score(Ya, clf_reglog.predict(Xa)))))"
   ]
  },
  {
   "cell_type": "markdown",
   "metadata": {},
   "source": [
    "&nbsp;\n",
    "\n",
    "<p style=\"text-align:justify;\"> Nous avions obtenu avec la méthode LDA un score de classification en test de 12.70% de taux d'erreur. Nous trouvons ici 7.9%. La méthode de regression logistique est donc plus performante que la méthode LDA pour ce problème.</p>\n",
    "\n",
    "&nbsp;\n",
    "\n",
    "<p style=\"text-align:justify;\"> Nous allons maintenant déclarer un nouveau modèle pour la régression logistique en changeant les paramètres de la fonction *LogisticRegression* de *Scikit-Learn*. Nous prenons \"multi_class = ovr\" et \"solver = liblinear\". \"multi_class = ovr\" va permette d'ajuster pour chaque label un problème binaire. \"solver = liblinear\" permet une régularisation L1.</p>\n",
    "\n",
    "&nbsp;"
   ]
  },
  {
   "cell_type": "code",
   "execution_count": 210,
   "metadata": {},
   "outputs": [
    {
     "name": "stdout",
     "output_type": "stream",
     "text": [
      "Valeur de Copt = 0.0022758459260747888\n",
      "Err classification en test correspondante = 8.469999999999999\n",
      "Err classification en apprentissage correspondante = 6.740476190476185\n"
     ]
    }
   ],
   "source": [
    "clf_reglog = linear_model.LogisticRegression(tol=1e-5, multi_class='ovr', solver='liblinear')\n",
    "clf_reglog.C = 0.0022758459260747888\n",
    "clf_reglog.fit(Xa, Ya)\n",
    "print('Valeur de Copt = {}'.format(c_opt ))\n",
    "print('Err classification en test correspondante = {}'.format(100*(1 - accuracy_score(Yt, clf_reglog.predict(Xt)))))\n",
    "print('Err classification en apprentissage correspondante = {}'.format(100*(1 - accuracy_score(Ya, clf_reglog.predict(Xa)))))"
   ]
  },
  {
   "cell_type": "markdown",
   "metadata": {},
   "source": [
    "&nbsp;\n",
    "\n",
    "<p style=\"text-align:justify;\"> Sans même faire une recherche d'hyper paramètre optimal, on peut voir que les performances du modèle ne se détériorent pas. J'ai voulu lancer une recherche optimal d'hyper paramètre, mais le temps de calcul est trop long.</p>\n",
    "\n",
    "&nbsp;"
   ]
  }
 ],
 "metadata": {
  "kernelspec": {
   "display_name": "Python 3",
   "language": "python",
   "name": "python3"
  },
  "language_info": {
   "codemirror_mode": {
    "name": "ipython",
    "version": 3
   },
   "file_extension": ".py",
   "mimetype": "text/x-python",
   "name": "python",
   "nbconvert_exporter": "python",
   "pygments_lexer": "ipython3",
   "version": "3.6.7"
  }
 },
 "nbformat": 4,
 "nbformat_minor": 2
}
